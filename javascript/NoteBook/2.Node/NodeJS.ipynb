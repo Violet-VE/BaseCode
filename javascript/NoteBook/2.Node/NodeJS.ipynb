{
 "cells": [
  {
   "cell_type": "markdown",
   "metadata": {},
   "source": [
    "# NodeJS\n",
    "\n",
    "## 1.环境配置\n",
    "\n",
    "<a href=\"http://www.cnblogs.com/dotnetcrazy/p/10061671.html#%E6%89%A9%E5%B1%95%E8%AF%B4%E6%98%8E\" target=\"_blank\">之前讲ES6的时候</a>有提过一部分Node的知识，简单回顾下：<a href=\"https://mp.weixin.qq.com/s?timestamp=1544749137&src=3&ver=1&signature=vnuwjSl1ABzrX1OgAvNfv5X2diylbeZHBka*ro35IujRIOq*bAyFNTFMYYDPrk35aT1VZTd0Auwoo9unagx2OtRhNv8Hr1tl8fCd41jFY2FRLilIWbvNNCIBHPUdcop8QA51NOUgGpXpf0W3toPFTsD9uMlKIww5SPtfpVGoDmg=\" target=\"_blank\">一文读懂ES6</a>\n",
    "\n",
    "### 1.1.NPM国内镜像\n",
    "\n",
    "**npm国内镜像**：`https://npm.taobao.org`\n",
    "\n",
    "配置国内源：**`npm install -g cnpm --registry=https://registry.npm.taobao.org`**\n",
    "\n",
    "然后就可以把`cnpm`当作`npm`来用了，比如之前的`React`组件案例：\n",
    "1. **`cnpm install react`**\n",
    "2. **`cnpm install react-dom`**\n",
    "3. **`cnpm i babel-core@old`**\n",
    "\n",
    "**PS：`i`是`install`的简写，`-g`是安装到全局环境中，不加就只是安装到当前目录**\n",
    "\n",
    "### 1.2.VSCode调试\n",
    "\n",
    "这个之前也说过，可以看看：<a href=\"http://www.cnblogs.com/dotnetcrazy/p/9962192.html#_map5\" target=\"_blank\">VSCode and NoteBook for JavaScript | NodeJS</a>，简单说下：\n",
    "\n",
    "每次F5运行的时候选一下`NodeJS`，或者添加一下调试的配置文件\n",
    "```json\n",
    "{\n",
    "    \"version\": \"0.2.0\",\n",
    "    \"configurations\": [\n",
    "        {\n",
    "            \"type\": \"node\",\n",
    "            \"request\": \"launch\",\n",
    "            \"name\": \"启动程序\",\n",
    "            \"program\": \"${workspaceFolder}/${relativeFile}\"\n",
    "        }\n",
    "    ]\n",
    "}\n",
    "```\n",
    "`nodejs`用法和`js`基本一样，只是多了些服务器的模块，eg：\n",
    "![1.vscode.png](https://img2018.cnblogs.com/blog/1127869/201812/1127869-20181212112409874-241695988.png)\n",
    "\n",
    "#### 配置NodeJS和HTML\n",
    "\n",
    "如果想同时运行`nodejs`和`html`再添加下配置就行了，比如：\n",
    "```json\n",
    "{\n",
    "    \"version\": \"0.2.0\",\n",
    "    \"configurations\": [\n",
    "        {\n",
    "            \"type\": \"chrome\",\n",
    "            \"request\": \"launch\",\n",
    "            \"name\": \"Launch Chrome against localhost\",\n",
    "            \"url\": \"http://localhost:8080/${relativeFile}\",\n",
    "            \"webRoot\": \"${workspaceFolder}\"\n",
    "        },\n",
    "        {\n",
    "            \"type\": \"node\",\n",
    "            \"request\": \"launch\",\n",
    "            \"name\": \"启动程序\",\n",
    "            \"program\": \"${workspaceFolder}/${relativeFile}\"\n",
    "        }\n",
    "    ]\n",
    "}\n",
    "```\n",
    "配置完成后：想运行HTML就选择谷歌浏览器\n",
    "![1.浏览器.png](https://img2018.cnblogs.com/blog/1127869/201812/1127869-20181212155241177-1408978964.png)\n",
    "\n",
    "想运行`nodejs`的`js`文件就选择启动程序（**现在运行JS文件的时候，F5即可自动切换成node**）\n",
    "![1.nodejs.png](https://img2018.cnblogs.com/blog/1127869/201812/1127869-20181212155336865-321252219.png)\n",
    "\n",
    "#### 配置说明\n",
    "\n",
    "1. `${workspaceRoot}` VS Code当前打开的文件夹\n",
    "2. `${file}` 当前打开的文件\n",
    "3. `${relativeFile}` 相对于`workspaceRoot`的相对路径\n",
    "4. `${fileBasename}` 当前打开文件的文件名\n",
    "5. `${fileDirname}` 所在的文件夹，是绝对路径\n",
    "6. `${fileExtname}` 当前打开文件的扩展名\n",
    "\n",
    "### 1.3.Jupyter NoteBook\n",
    "\n",
    "`ijavascript`依赖于`Python2.7`，详细过程：<a href=\"http://www.cnblogs.com/dotnetcrazy/p/9962192.html#_map7\" target=\"_blank\">Jupyter NoteBook IJavaScript 配置</a>\n",
    "\n",
    "```shell\n",
    "# 如果nodejs和npm没安装可以先安装下\n",
    "sudo apt-get install nodejs npm\n",
    "\n",
    "# 把ijavascript安装到全局环境中\n",
    "sudo npm install -g ijavascript\n",
    "\n",
    "#  安装\n",
    "ijsinstall\n",
    "```\n",
    "然后就和Python一样用了：\n",
    "![1.ijavascript.png](https://img2018.cnblogs.com/blog/1127869/201811/1127869-20181115105804115-1975534286.png)\n"
   ]
  },
  {
   "cell_type": "markdown",
   "metadata": {},
   "source": [
    "## 2.自带模块（常用）\n",
    "\n",
    "### 2.1.http\n",
    "\n",
    "NodeJS既然作为服务器，那得先有个服务器的样子，我们来个简单的案例：\n",
    "```node\n",
    "// ES6语法：import http from \"http\"; （现在还没能完全支持）\n",
    "const http = require(\"http\")\n",
    "\n",
    "// 创建一个服务器\n",
    "let server = http.createServer((request, response) => {\n",
    "    // 每次请求都会执行这个方法\n",
    "    console.log(request.url);\n",
    "\n",
    "    response.write(\"<h1>Test NodeJS</h>\");\n",
    "    response.end() // 告诉浏览器响应结束\n",
    "\n",
    "});\n",
    "\n",
    "// 服务器启动并监听指定端口\n",
    "server.listen(8080); // 这个和其他语言不一样，直接监听对应的端口\n",
    "```\n",
    "效果：\n",
    "![1.vscode.png](https://img2018.cnblogs.com/blog/1127869/201812/1127869-20181212112409874-241695988.png)\n",
    "\n",
    "### 2.2.fs\n",
    "\n",
    "这个是IO对应的模块，推荐使用异步方法，简单看看：(`xxxFileSync`是同步方式，不建议使用)"
   ]
  },
  {
   "cell_type": "code",
   "execution_count": 1,
   "metadata": {},
   "outputs": [],
   "source": [
    "const fs = require(\"fs\");"
   ]
  },
  {
   "cell_type": "code",
   "execution_count": 2,
   "metadata": {},
   "outputs": [
    {
     "name": "stdout",
     "output_type": "stream",
     "text": [
      "[ReadFile异步验证]我出现就是异步\n",
      "{ Error: ENOENT: no such file or directory, open 'test.txt' errno: -2, code: 'ENOENT', syscall: 'open', path: 'test.txt' }\n"
     ]
    }
   ],
   "source": [
    "// 文件读取\n",
    "fs.readFile(\"test.txt\",(ex,data) => {\n",
    "    // 如果文件不存在就输出错误信息\n",
    "    if(ex){\n",
    "        console.log(ex);\n",
    "    }else{\n",
    "        console.log(data.toString());\n",
    "    }\n",
    "});\n",
    "\n",
    "console.log(\"[ReadFile异步验证]我出现就是异步\");"
   ]
  },
  {
   "cell_type": "code",
   "execution_count": 3,
   "metadata": {},
   "outputs": [
    {
     "name": "stdout",
     "output_type": "stream",
     "text": [
      "[WriteFile异步验证]我出现就是异步\n"
     ]
    }
   ],
   "source": [
    "// 创建一个文件\n",
    "fs.writeFile(\"test.txt\",\"文本内容\",ex => {\n",
    "    if(ex){\n",
    "        // 出错就输出info\n",
    "        console.log(ex);\n",
    "    }\n",
    "});\n",
    "\n",
    "console.log(\"[WriteFile异步验证]我出现就是异步\");"
   ]
  },
  {
   "cell_type": "code",
   "execution_count": 4,
   "metadata": {},
   "outputs": [
    {
     "name": "stdout",
     "output_type": "stream",
     "text": [
      "[AppendFile异步验证]我出现就是异步\n"
     ]
    }
   ],
   "source": [
    "// 文件追加\n",
    "fs.appendFile(\"test.txt\",\"追加内容\",ex => {\n",
    "   if(ex){\n",
    "        // 出错就输出info\n",
    "       console.log(ex);\n",
    "   } \n",
    "});\n",
    "\n",
    "console.log(\"[AppendFile异步验证]我出现就是异步\");"
   ]
  },
  {
   "cell_type": "code",
   "execution_count": 5,
   "metadata": {},
   "outputs": [
    {
     "name": "stdout",
     "output_type": "stream",
     "text": [
      "文本内容追加内容\n"
     ]
    }
   ],
   "source": [
    "// 现在再读着看看\n",
    "fs.readFile(\"test.txt\",(ex,data) => {\n",
    "    // 如果文件不存在就输出错误信息\n",
    "    if(ex){\n",
    "        console.log(ex);\n",
    "    }else{\n",
    "        console.log(data.toString());\n",
    "    }\n",
    "});"
   ]
  },
  {
   "cell_type": "markdown",
   "metadata": {},
   "source": [
    "PS：如果文件不是文本文件，就不能`toString`了（`data`默认是`buffer`类型）\n",
    "\n",
    "```node\n",
    "fs.readFile(\"知识星球.png\", (ex, data) => {\n",
    "    if (ex) {\n",
    "        console.log(\"读取错误：\", ex);\n",
    "    } else {\n",
    "        console.log(data); // 看看buffer是啥样的\n",
    "        fs.writeFile(\"test.png\", data, ex => {\n",
    "            if (ex) {\n",
    "                console.log(\"复制错误：\", ex);\n",
    "            }\n",
    "        });\n",
    "    }\n",
    "});\n",
    "```\n",
    "效果：\n",
    "```\n",
    "<Buffer 89 50 4e 47 0d 0a 1a 0a 00 00 00 0d 49 48 44 52 00 00 02 10 00 00 02 61 08 06 00 00 00 10 7e 89 ed 00 00 20 00 49 44 41 54 78 01 ec bd 07 98 64 57 79 ... >\n",
    "```\n",
    "图片照常打开：\n",
    "![公众号：逸鹏说道](https://img2018.cnblogs.com/blog/1127869/201809/1127869-20180915141424820-1572974566.png)\n",
    "\n",
    "简单小结一下：\n",
    "1. 读取文件：`fs.readFile(\"xxx\", (ex, data) => { });`\n",
    "3. 创建文件：`fs.writeFile(\"xxx\", data, ex => {});`\n",
    "3. 追加文件：`fs.appendFile(\"xxx\", data, ex => {});`\n",
    "4. `data`是`buffer`类型，内置了：\n",
    "    - `toString()`：buffer转换成字符串\n",
    "    - `toJSON()`：buffer转化成Json"
   ]
  },
  {
   "cell_type": "code",
   "execution_count": 6,
   "metadata": {
    "scrolled": false
   },
   "outputs": [
    {
     "name": "stdout",
     "output_type": "stream",
     "text": [
      "<Buffer 5b 6f 62 6a 65 63 74 20 4f 62 6a 65 63 74 5d>\n",
      "{ type: 'Buffer',\n",
      "  data: [ 91, 111, 98, 106, 101, 99, 116, 32, 79, 98, 106, 101, 99, 116, 93 ] }\n",
      "[object Object]\n",
      "[object Object]\n"
     ]
    }
   ],
   "source": [
    "// 看个案例\n",
    "data = { \"name\": \"小明\", \"age\": \"23\" };\n",
    "\n",
    "fs.writeFile(\"to.txt\", data, ex => {\n",
    "    if (ex) {\n",
    "        console.log(ex);\n",
    "    }\n",
    "});\n",
    "\n",
    "fs.readFile(\"to.txt\", (ex, data) => {\n",
    "    if (ex) {\n",
    "        console.log(ex);\n",
    "    } else {\n",
    "        console.log(data);\n",
    "        console.log(data.toJSON());\n",
    "        console.log(data.toString());\n",
    "        console.log(data.toLocaleString());\n",
    "    }\n",
    "});"
   ]
  },
  {
   "cell_type": "markdown",
   "metadata": {},
   "source": [
    "### 2.3.url\n",
    "\n",
    "说`url`模块之前得先说下`querystring`模块\n",
    "\n",
    "#### 1.querystring\n",
    "\n",
    "这个是专门针对参数进行解析的，来个案例："
   ]
  },
  {
   "cell_type": "code",
   "execution_count": 1,
   "metadata": {},
   "outputs": [],
   "source": [
    "const querystring = require(\"querystring\");"
   ]
  },
  {
   "cell_type": "code",
   "execution_count": 2,
   "metadata": {},
   "outputs": [
    {
     "name": "stdout",
     "output_type": "stream",
     "text": [
      "{ keyword: '空气净化器',\n",
      "  enc: 'utf-8',\n",
      "  qrst: '1',\n",
      "  rt: '1',\n",
      "  stop: '1',\n",
      "  vt: '2',\n",
      "  psort: '3',\n",
      "  stock: '1',\n",
      "  wtype: '1',\n",
      "  cod: '1',\n",
      "  click: '2' }\n"
     ]
    }
   ],
   "source": [
    "let jd_qs = \"keyword=空气净化器&enc=utf-8&qrst=1&rt=1&stop=1&vt=2&psort=3&stock=1&wtype=1&cod=1&click=2\";\n",
    "\n",
    "// 咋一看，好像挺方便，但是有坑：看下一个demo\n",
    "let str = querystring.parse(jd_qs);\n",
    "console.log(str)"
   ]
  },
  {
   "cell_type": "code",
   "execution_count": 3,
   "metadata": {},
   "outputs": [
    {
     "name": "stdout",
     "output_type": "stream",
     "text": [
      "{ 'https://search.jd.com/Search?keyword': '空气净化器',\n",
      "  enc: 'utf-8',\n",
      "  qrst: '1',\n",
      "  rt: '1',\n",
      "  stop: '1',\n",
      "  vt: '2',\n",
      "  psort: '3',\n",
      "  stock: '1',\n",
      "  wtype: '1',\n",
      "  cod: '1',\n",
      "  click: '2' }\n"
     ]
    }
   ],
   "source": [
    "// 用户请求一般都是类似于这样的\n",
    "let jd_url = \"https://search.jd.com/Search?keyword=空气净化器&enc=utf-8&qrst=1&rt=1&stop=1&vt=2&psort=3&stock=1&wtype=1&cod=1&click=2\";\n",
    "\n",
    "// querystring.parse 只是对?后面(不包括`?`)的参数进行解析（以`=`和`&`分隔）\n",
    "str = querystring.parse(jd_url);\n",
    "console.log(str);"
   ]
  },
  {
   "cell_type": "markdown",
   "metadata": {},
   "source": [
    "注意：**querystring.parse 只是对?后面(不包括`?`)的参数进行解析（以`=`和`&`分隔）**\n",
    "\n",
    "#### 2.url\n",
    "\n",
    "上面说下`querystring`只是一个铺垫，基本上不太用，`url`模块已经包含这个了："
   ]
  },
  {
   "cell_type": "code",
   "execution_count": 1,
   "metadata": {},
   "outputs": [],
   "source": [
    "const url = require(\"url\");"
   ]
  },
  {
   "cell_type": "code",
   "execution_count": 2,
   "metadata": {},
   "outputs": [
    {
     "name": "stdout",
     "output_type": "stream",
     "text": [
      "Url {\n",
      "  protocol: 'https:',\n",
      "  slashes: true,\n",
      "  auth: null,\n",
      "  host: 'search.jd.com',\n",
      "  port: null,\n",
      "  hostname: 'search.jd.com',\n",
      "  hash: null,\n",
      "  search: '?keyword=空气净化器&enc=utf-8&qrst=1&rt=1&stop=1&vt=2&psort=3&stock=1&wtype=1&cod=1&click=2',\n",
      "  query: 'keyword=空气净化器&enc=utf-8&qrst=1&rt=1&stop=1&vt=2&psort=3&stock=1&wtype=1&cod=1&click=2',\n",
      "  pathname: '/Search',\n",
      "  path: '/Search?keyword=空气净化器&enc=utf-8&qrst=1&rt=1&stop=1&vt=2&psort=3&stock=1&wtype=1&cod=1&click=2',\n",
      "  href: 'https://search.jd.com/Search?keyword=空气净化器&enc=utf-8&qrst=1&rt=1&stop=1&vt=2&psort=3&stock=1&wtype=1&cod=1&click=2' }\n"
     ]
    }
   ],
   "source": [
    "// port=null说明是默认端口（http：80，https：443）\n",
    "let jd_url = \"https://search.jd.com/Search?keyword=空气净化器&enc=utf-8&qrst=1&rt=1&stop=1&vt=2&psort=3&stock=1&wtype=1&cod=1&click=2\";\n",
    "\n",
    "let str = url.parse(jd_url);\n",
    "console.log(str); // 发现query并没有解析"
   ]
  },
  {
   "cell_type": "code",
   "execution_count": 3,
   "metadata": {},
   "outputs": [
    {
     "name": "stdout",
     "output_type": "stream",
     "text": [
      "Url {\n",
      "  protocol: 'https:',\n",
      "  slashes: true,\n",
      "  auth: null,\n",
      "  host: 'search.jd.com',\n",
      "  port: null,\n",
      "  hostname: 'search.jd.com',\n",
      "  hash: null,\n",
      "  search: '?keyword=空气净化器&enc=utf-8&qrst=1&rt=1&stop=1&vt=2&psort=3&stock=1&wtype=1&cod=1&click=2',\n",
      "  query: \n",
      "   { keyword: '空气净化器',\n",
      "     enc: 'utf-8',\n",
      "     qrst: '1',\n",
      "     rt: '1',\n",
      "     stop: '1',\n",
      "     vt: '2',\n",
      "     psort: '3',\n",
      "     stock: '1',\n",
      "     wtype: '1',\n",
      "     cod: '1',\n",
      "     click: '2' },\n",
      "  pathname: '/Search',\n",
      "  path: '/Search?keyword=空气净化器&enc=utf-8&qrst=1&rt=1&stop=1&vt=2&psort=3&stock=1&wtype=1&cod=1&click=2',\n",
      "  href: 'https://search.jd.com/Search?keyword=空气净化器&enc=utf-8&qrst=1&rt=1&stop=1&vt=2&psort=3&stock=1&wtype=1&cod=1&click=2' }\n"
     ]
    }
   ],
   "source": [
    "// 想要解析`query`，可以多传一个参数\n",
    "str = url.parse(jd_url, true);\n",
    "console.log(str); // 对query解析"
   ]
  },
  {
   "cell_type": "markdown",
   "metadata": {},
   "source": [
    "PS：一般都是这么用的：\n",
    "```node\n",
    "// {a, b} = {a:21,b=34,c=22} 只要对应即可解包，如果想取别名可以使用：{a:xx, b} = {...}\n",
    "let { pathname, query } = url.parse(request.url, true);\n",
    "```\n",
    "\n",
    "#### 3.小综合\n",
    "\n",
    "结合上面的`HTTP模块`，来个简单的`web服务器`：\n",
    "\n",
    "```node\n",
    "const fs = require(\"fs\");\n",
    "const url = require(\"url\");\n",
    "const http = require(\"http\");\n",
    "\n",
    "// 创建服务\n",
    "let server = http.createServer((request, response) => {\n",
    "    // 请求\n",
    "    // {a, b} = {a:21,b=34,c=22} 只要对应即可解包，如果想取别名可以使用：{a:xx, b} = {...}\n",
    "    let { pathname, query } = url.parse(request.url, true);\n",
    "    console.log(query, pathname);\n",
    "\n",
    "    // 读取对应文件\n",
    "    fs.readFile(`www${pathname}`, (ex, data) => {\n",
    "        if (ex) {\n",
    "            // 返回404状态码，并设置编码为UTF-8\n",
    "            response.writeHeader(404, {\n",
    "                \"Content-Type\": \"text/html;charset=utf-8\"\n",
    "            });\n",
    "            // 提示需要在 writeHeader 之后，不然访问的是浏览器404页面\n",
    "            response.write(\"<h1>访问的页面不存在～</h1>\");\n",
    "        } else {\n",
    "            response.write(data);\n",
    "        }\n",
    "        // 响应结束\n",
    "        response.end();\n",
    "    });\n",
    "});\n",
    "// 服务器启动并监听指定端口\n",
    "server.listen(8080);\n",
    "```\n",
    "输出：(`www`目录就两个文件，一个`test.html`,一个`test.png`)\n",
    "\n",
    "![2.nodejs.png](https://img2018.cnblogs.com/blog/1127869/201812/1127869-20181214122914837-536774209.png)\n",
    "\n",
    "### 2.4.path\n",
    "\n",
    "这个主要是针对路径的模块，看个案例：`path.parse()`"
   ]
  },
  {
   "cell_type": "code",
   "execution_count": 4,
   "metadata": {},
   "outputs": [],
   "source": [
    "const path = require(\"path\");"
   ]
  },
  {
   "cell_type": "code",
   "execution_count": 5,
   "metadata": {
    "scrolled": true
   },
   "outputs": [
    {
     "name": "stdout",
     "output_type": "stream",
     "text": [
      "./images/png\n",
      "小明.png\n",
      ".png\n",
      "{ root: '',\n",
      "  dir: './images/png',\n",
      "  base: '小明.png',\n",
      "  ext: '.png',\n",
      "  name: '小明' }\n",
      "/home/dnt/桌面/work/BaseCode/javascript/NoteBook/2.Node\n",
      "/home/dnt/桌面/work/BaseCode/javascript/NoteBook/2.Node/images/png/小明.png\n"
     ]
    }
   ],
   "source": [
    "let file_name = \"./images/png/小明.png\";\n",
    "\n",
    "// 文件路径 ./images/png\n",
    "console.log(path.dirname(file_name));\n",
    "\n",
    "// 提取出用 `/` 隔开的 `path` 的最后一部分\n",
    "// 小明.png\n",
    "console.log(path.basename(file_name));\n",
    "\n",
    "// 文件后缀 .png\n",
    "console.log(path.extname(file_name));\n",
    "\n",
    "// 文件信息 {root: \"\", dir: \"./images/png\", base: \"小明.png\", ext: \".png\", name: \"小明\"}\n",
    "console.log(path.parse(file_name)); // 这个经常使用\n",
    "\n",
    "// ------------------------------\n",
    "// 当前文件所在文件夹绝对路径\n",
    "console.log(path.resolve());\n",
    "// 文件的绝对路径\n",
    "console.log(path.resolve(file_name));"
   ]
  },
  {
   "cell_type": "code",
   "execution_count": 6,
   "metadata": {
    "scrolled": true
   },
   "outputs": [
    {
     "name": "stdout",
     "output_type": "stream",
     "text": [
      "{ resolve: [Function: resolve],\n",
      "  normalize: [Function: normalize],\n",
      "  isAbsolute: [Function: isAbsolute],\n",
      "  join: [Function: join],\n",
      "  relative: [Function: relative],\n",
      "  _makeLong: [Function: _makeLong],\n",
      "  dirname: [Function: dirname],\n",
      "  basename: [Function: basename],\n",
      "  extname: [Function: extname],\n",
      "  format: [Function: format],\n",
      "  parse: [Function: parse],\n",
      "  sep: '/',\n",
      "  delimiter: ':',\n",
      "  win32: \n",
      "   { resolve: [Function: resolve],\n",
      "     normalize: [Function: normalize],\n",
      "     isAbsolute: [Function: isAbsolute],\n",
      "     join: [Function: join],\n",
      "     relative: [Function: relative],\n",
      "     _makeLong: [Function: _makeLong],\n",
      "     dirname: [Function: dirname],\n",
      "     basename: [Function: basename],\n",
      "     extname: [Function: extname],\n",
      "     format: [Function: format],\n",
      "     parse: [Function: parse],\n",
      "     sep: '\\\\',\n",
      "     delimiter: ';',\n",
      "     win32: [Circular],\n",
      "     posix: [Circular] },\n",
      "  posix: [Circular] }\n"
     ]
    }
   ],
   "source": [
    "// 可以看看path的完整信息\n",
    "console.log(path);"
   ]
  },
  {
   "cell_type": "code",
   "execution_count": null,
   "metadata": {},
   "outputs": [],
   "source": []
  }
 ],
 "metadata": {
  "kernelspec": {
   "display_name": "Javascript (Node.js)",
   "language": "javascript",
   "name": "javascript"
  },
  "language_info": {
   "file_extension": ".js",
   "mimetype": "application/javascript",
   "name": "javascript",
   "version": "8.10.0"
  }
 },
 "nbformat": 4,
 "nbformat_minor": 2
}
