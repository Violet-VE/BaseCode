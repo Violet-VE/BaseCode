{
 "cells": [
  {
   "cell_type": "markdown",
   "metadata": {},
   "source": [
    "# ES6基础\n",
    "\n",
    "## 1.变量\n",
    "\n",
    "1. `var`：可以重复定义，不能限制修改，没有块级作用域（和Python差不多）\n",
    "2. `let`：不可以重复定义，相当于C#的变量，块级作用域（以后var全部换成let）\n",
    "3. `const`：不可以重复定义，相当于C#的常量，块级作用域"
   ]
  },
  {
   "cell_type": "code",
   "execution_count": 1,
   "metadata": {},
   "outputs": [],
   "source": [
    "// 可以重复定义的验证："
   ]
  },
  {
   "cell_type": "code",
   "execution_count": 2,
   "metadata": {
    "scrolled": true
   },
   "outputs": [
    {
     "name": "stdout",
     "output_type": "stream",
     "text": [
      "5\n"
     ]
    }
   ],
   "source": [
    "// var可以重复定义\n",
    "var a1 = 12; // 定义了一个a变量\n",
    "// 写了若干代码\n",
    "var a1 = 5; // 然后又重新定义了一个a，这时候可能就有潜在bug了\n",
    "console.log(a1);"
   ]
  },
  {
   "cell_type": "code",
   "execution_count": 3,
   "metadata": {
    "scrolled": false
   },
   "outputs": [
    {
     "ename": "SyntaxError",
     "evalue": "Identifier 'a2' has already been declared",
     "output_type": "error",
     "traceback": [
      "evalmachine.<anonymous>:3",
      "let a2 = 5;",
      "    ^",
      "",
      "SyntaxError: Identifier 'a2' has already been declared",
      "    at createScript (vm.js:80:10)",
      "    at Object.runInThisContext (vm.js:139:10)",
      "    at run ([eval]:1002:15)",
      "    at onRunRequest ([eval]:829:18)",
      "    at onMessage ([eval]:789:13)",
      "    at emitTwo (events.js:126:13)",
      "    at process.emit (events.js:214:7)",
      "    at emit (internal/child_process.js:772:12)",
      "    at _combinedTickCallback (internal/process/next_tick.js:141:11)",
      "    at process._tickCallback (internal/process/next_tick.js:180:9)"
     ]
    }
   ],
   "source": [
    "// let不可以重复定义，相当于C#的变量（以后var全部换成let）\n",
    "let a2 = 12;\n",
    "let a2 = 5;\n",
    "\n",
    "// 标识符a已经被声明\n",
    "console.log(a2); // Identifier 'a2' has already been declared"
   ]
  },
  {
   "cell_type": "code",
   "execution_count": 4,
   "metadata": {
    "scrolled": false
   },
   "outputs": [
    {
     "ename": "SyntaxError",
     "evalue": "Identifier 'a3' has already been declared",
     "output_type": "error",
     "traceback": [
      "evalmachine.<anonymous>:4",
      "const a3 = 5;",
      "      ^",
      "",
      "SyntaxError: Identifier 'a3' has already been declared",
      "    at createScript (vm.js:80:10)",
      "    at Object.runInThisContext (vm.js:139:10)",
      "    at run ([eval]:1002:15)",
      "    at onRunRequest ([eval]:829:18)",
      "    at onMessage ([eval]:789:13)",
      "    at emitTwo (events.js:126:13)",
      "    at process.emit (events.js:214:7)",
      "    at emit (internal/child_process.js:772:12)",
      "    at _combinedTickCallback (internal/process/next_tick.js:141:11)",
      "    at process._tickCallback (internal/process/next_tick.js:180:9)"
     ]
    }
   ],
   "source": [
    "// const：不可以重复定义，相当于C#的常量\n",
    "\n",
    "const a3 = 12;\n",
    "const a3 = 5;\n",
    "\n",
    "// 标识符a已经被声明\n",
    "console.log(a3); // Identifier 'a3' has already been declared"
   ]
  },
  {
   "cell_type": "code",
   "execution_count": 5,
   "metadata": {},
   "outputs": [],
   "source": [
    "// 可以被修改的验证："
   ]
  },
  {
   "cell_type": "code",
   "execution_count": 6,
   "metadata": {},
   "outputs": [
    {
     "name": "stdout",
     "output_type": "stream",
     "text": [
      "3\n"
     ]
    }
   ],
   "source": [
    "var a = 2;\n",
    "a = 3;\n",
    "\n",
    "// var 可以修改\n",
    "console.log(a);"
   ]
  },
  {
   "cell_type": "code",
   "execution_count": 7,
   "metadata": {},
   "outputs": [
    {
     "name": "stdout",
     "output_type": "stream",
     "text": [
      "3\n"
     ]
    }
   ],
   "source": [
    "let b = 2;\n",
    "b = 3;\n",
    "\n",
    "// let 可以修改\n",
    "console.log(b);"
   ]
  },
  {
   "cell_type": "code",
   "execution_count": 8,
   "metadata": {
    "scrolled": true
   },
   "outputs": [
    {
     "ename": "TypeError",
     "evalue": "Assignment to constant variable.",
     "output_type": "error",
     "traceback": [
      "evalmachine.<anonymous>:3",
      "c = 5;",
      "  ^",
      "",
      "TypeError: Assignment to constant variable.",
      "    at evalmachine.<anonymous>:3:3",
      "    at ContextifyScript.Script.runInThisContext (vm.js:50:33)",
      "    at Object.runInThisContext (vm.js:139:38)",
      "    at run ([eval]:1002:15)",
      "    at onRunRequest ([eval]:829:18)",
      "    at onMessage ([eval]:789:13)",
      "    at emitTwo (events.js:126:13)",
      "    at process.emit (events.js:214:7)",
      "    at emit (internal/child_process.js:772:12)",
      "    at _combinedTickCallback (internal/process/next_tick.js:141:11)"
     ]
    }
   ],
   "source": [
    "// const 不可以修改\n",
    "const c = 12;\n",
    "c = 5;\n",
    "\n",
    "// 不能赋值给常量变量\n",
    "console.log(c); // Assignment to constant variable."
   ]
  },
  {
   "cell_type": "code",
   "execution_count": 9,
   "metadata": {},
   "outputs": [],
   "source": [
    "// 验证作用域："
   ]
  },
  {
   "cell_type": "code",
   "execution_count": 10,
   "metadata": {},
   "outputs": [
    {
     "name": "stdout",
     "output_type": "stream",
     "text": [
      "1\n"
     ]
    }
   ],
   "source": [
    "// var没有块级作用域\n",
    "if(1<2){\n",
    "    var b1 = 1;\n",
    "}\n",
    "console.log(b1); // 1"
   ]
  },
  {
   "cell_type": "code",
   "execution_count": 11,
   "metadata": {},
   "outputs": [
    {
     "ename": "ReferenceError",
     "evalue": "b2 is not defined",
     "output_type": "error",
     "traceback": [
      "evalmachine.<anonymous>:5",
      "console.log(b2) // ReferenceError: b is not defined",
      "            ^",
      "",
      "ReferenceError: b2 is not defined",
      "    at evalmachine.<anonymous>:5:13",
      "    at ContextifyScript.Script.runInThisContext (vm.js:50:33)",
      "    at Object.runInThisContext (vm.js:139:38)",
      "    at run ([eval]:1002:15)",
      "    at onRunRequest ([eval]:829:18)",
      "    at onMessage ([eval]:789:13)",
      "    at emitTwo (events.js:126:13)",
      "    at process.emit (events.js:214:7)",
      "    at emit (internal/child_process.js:772:12)",
      "    at _combinedTickCallback (internal/process/next_tick.js:141:11)"
     ]
    }
   ],
   "source": [
    "// 和我们平时使用差不多了\n",
    "if(1<2){\n",
    "    let b2 = 1;\n",
    "}\n",
    "console.log(b2); // ReferenceError: b2 is not defined"
   ]
  },
  {
   "cell_type": "code",
   "execution_count": 12,
   "metadata": {},
   "outputs": [],
   "source": [
    "// 扩展：var变量和Python类似\n",
    "// if 1 < 2:\n",
    "//     b = 1\n",
    "// print(b) # 1\n",
    "\n",
    "// 结论：(以后var全部换成let)\n",
    "// 1. `var`：可以重复定义，不能限制修改，没有块级作用域（和Python差不多）\n",
    "// 2. `let`：不可以重复定义，相当于C#的变量，块级作用域（以后var全部换成let）\n",
    "// 3. `const`：不可以重复定义，相当于C#的常量，块级作用域"
   ]
  },
  {
   "cell_type": "markdown",
   "metadata": {},
   "source": [
    "## 2.解构赋值\n",
    "\n",
    "这个特性不管是`C#`还是`ES6`都是从`Python`那借鉴过来的，特点：\n",
    "1. 左右两边结构一样\n",
    "2. 定义和赋值同时完成\n",
    "\n",
    "### 基础\n",
    "\n",
    "简单版：\n",
    "```javascript\n",
    "let [a,b,c] = [1,2,3];\n",
    "console.log(a,b,c); // 1 2 3\n",
    "```\n",
    "\n",
    "变化版：\n",
    "```javascript\n",
    "let {a,b,c} = {a:1,b:2,c:3}; // json格式对应也行\n",
    "console.log(a,b,c); // 1 2 3\n",
    "```\n",
    "PS：把后面改成`{a1:1,b1:2,c1:3}`就变成`undefined undefined undefined`\n",
    "\n",
    "复杂版：\n",
    "```javascript\n",
    "let [x, { a, b, c }, y] = [4, { a: 1, b: 2, c: 3 }, 5];\n",
    "console.log(a, b, c, x, y); // 1 2 3 4 5\n",
    "```\n",
    "\n",
    "### 验证\n",
    "\n",
    "1. **左右两边结构需要一样**\n",
    "```javascript\n",
    "// 这种就不行，格式得对应（左边3，右边5个 ==> over）\n",
    "let [x, { a, b, c }, y] = { a: 1, b: 2, c: 3, x: 4, y: 5 };\n",
    "console.log(a, b, c, x, y); // 未捕获的TypeError：{...}不可迭代\n",
    "```\n",
    "\n",
    "2. **定义和赋值同时完成**\n",
    "```javascript\n",
    "let [a, b, c];\n",
    "[a, b, c] = [1, 2, 3];\n",
    "// 未捕获的SyntaxError：在解构声明中缺少初始化程序\n",
    "console.log(a, b, c);\n",
    "```\n"
   ]
  },
  {
   "cell_type": "markdown",
   "metadata": {},
   "source": [
    "## 3.函数系\n",
    "\n",
    "### 3.1.箭头函数（匿名函数）\n",
    "\n",
    "以前写法：\n",
    "```javascript\n",
    "function (参数,参数){\n",
    "    函数体\n",
    "}\n",
    "```\n",
    "简化写法：\n",
    "```javascript\n",
    "(参数,参数) => {\n",
    "    函数体\n",
    "}\n",
    "\n",
    "参数 => {\n",
    "    函数体\n",
    "}\n",
    "\n",
    "参数 => 表达式\n",
    "```\n",
    "\n",
    "**举个例子**：\n",
    "```javascript\n",
    "function add(x, y) {\n",
    "    return x + y;\n",
    "}\n",
    "\n",
    "let add1 = function (x, y) {\n",
    "    return x + y;\n",
    "}\n",
    "\n",
    "let add2 = (x, y) => {\n",
    "    return x + y;\n",
    "}\n",
    "\n",
    "let add3 = (x,y) => x+y;\n",
    "console.log(add(1, 2)); // 3\n",
    "console.log(add1(1, 2)); // 3\n",
    "console.log(add2(1, 2)); // 3\n",
    "console.log(add3(1, 2)); // 3\n",
    "```\n",
    "\n",
    "#### 小验证（`和Net用起来基本上一样`）\n",
    "1. 如果只有一个参数：`()`可以省略\n",
    "```javascript\n",
    "let get_age = age => {\n",
    "    return age - 2;\n",
    "}\n",
    "console.log(get_age(18)); // 16\n",
    "```\n",
    "2. 如果函数体只有一句话：`{}`可以省略\n",
    "    - 如果只有一句`return`，那么`return`也可以省略\n",
    "```javascript\n",
    "let get_age = age => age - 2;\n",
    "console.log(get_age(18)); // 16\n",
    "```\n",
    "    - 没有`return`也可以简写\n",
    "```javascript\n",
    "let print_age = age => console.log(age - 2);\n",
    "print_age(18); // 16\n",
    "```\n",
    "\n",
    "PS：**箭头函数会改变`this`（后面会说）**\n",
    "\n",
    "---\n",
    "\n",
    "### 3.2.默认参数\n",
    "\n",
    "```javascript\n",
    "// 原来：\n",
    "function show(a, b, c) {\n",
    "    c = c || 7; // 默认参数\n",
    "    console.log(a, b, c);\n",
    "}\n",
    "// 现在：\n",
    "function show(a, b, c = 7) {\n",
    "    console.log(a, b, c);\n",
    "}\n",
    "\n",
    "show(1, 2); // 1 2 7\n",
    "show(1, 2, 3); // 1 2 3\n",
    "```\n",
    "\n",
    "---\n",
    "\n",
    "### 3.3.参数展开\n",
    "\n",
    "#### 基本用法\n",
    "\n",
    "举个例子：\n",
    "```javascript\n",
    "let show_args = (a, b, ...args) => console.log(a, b, args);\n",
    "// `...args`是个数组（Python是元组）\n",
    "show_args(1, 2, 3, 4, 5, 6);// 1 2 [3, 4, 5, 6] \n",
    "```\n",
    "\n",
    "#### 小验证\n",
    "\n",
    "1. **`...args`必须是最后一个参数**\n",
    "```javascript\n",
    "let show_args = (a, b, ...args, c) => console.log(a, b, args, c);\n",
    "// Uncaught SyntaxError: Rest parameter must be last formal parameter\n",
    "show_args(1, 2, 4, 5, 6, c = 3); // ...args必须是最后一个参数\n",
    "```\n",
    "\n",
    "PS：**Python里面可以**：\n",
    "```py\n",
    "def show(a, b, *args, c):\n",
    "    print(a, b, args, c)\n",
    "\n",
    "# 1 2 (4, 5, 6) 3\n",
    "show(1, 2, 4, 5, 6, c=3)\n",
    "```\n",
    "\n",
    "#### 扩展用法\n",
    "\n",
    "**案例1**：\n",
    "```javascript\n",
    "let nums = [1, 2, 3, 4];\n",
    "// 解包使用\n",
    "let nums2 = [0, ...nums, 5, 6];\n",
    "// [0,1,2,3,4,5,6]\n",
    "console.log(nums2);\n",
    "```\n",
    "\n",
    "PS：**Python用法类似**：\n",
    "```py\n",
    "# 列表换成元组也一样用\n",
    "num_list = [1,2,3,4]\n",
    "# 不管是列表还是元组，这边需要加*才能解包\n",
    "num_list2 = [0,*num_list,5,6]\n",
    "# [0, 1, 2, 3, 4, 5, 6]\n",
    "print(num_list2)\n",
    "```\n",
    "\n",
    "**案例2**：\n",
    "```javascript\n",
    "let nums = [1, 2, 3, 4];\n",
    "let nums2 = [0, 5, 6];\n",
    "nums.push(...nums2);\n",
    "// [1, 2, 3, 4, 0, 5, 6]\n",
    "console.log(nums);\n",
    "```\n",
    "\n",
    "PS：**Python用法类似**：\n",
    "```py\n",
    "num_list = [1,2,3,4]\n",
    "num_list2 = [0,5,6]\n",
    "# [1, 2, 3, 4, 0, 5, 6]\n",
    "num_list.extend(num_list2)\n",
    "print(num_list)\n",
    "\n",
    "# 如果使用append就是嵌套版列表了\n",
    "# num_list.append(num_list2)\n",
    "# [1, 2, 3, 4, [0, 5, 6]]\n",
    "```"
   ]
  },
  {
   "cell_type": "markdown",
   "metadata": {},
   "source": [
    "## 4.数组\n",
    "\n",
    "### 4.1.map\n",
    "\n",
    "**映射**，传几个参数进去，出来几个参数。（**不改变数组内容，生成新数组**）\n",
    "\n",
    "#### 基本用法\n",
    "\n",
    "```javascript\n",
    "scor_arr = [100, 28, 38, 64]\n",
    "let results = scor_arr.map(item => item >= 60);\n",
    "// [true, false, false, true]\n",
    "console.log(results); // 不改变scor_arr内容，生成新数组\n",
    "\n",
    "// old：\n",
    "// let results = scor_arr.map(function (item) {\n",
    "//     return item >= 60;\n",
    "// });\n",
    "```\n",
    "\n",
    "#### Python3\n",
    "\n",
    "Python略有不同：(`把函数依次作用在list的每个元素上`)\n",
    "```py\n",
    "scor_list = [100, 28, 38, 64]\n",
    "result_list = map(lambda item: item >= 60, scor_list)\n",
    "# [True, False, False, True] 不改变旧list的值\n",
    "print(list(result_list)) # result_list：PY2直接返回list\n",
    "```\n",
    "\n",
    "---\n",
    "\n",
    "### 4.2.filter\n",
    "\n",
    "代言词：**过滤**（**不改变数组内容，生成新数组**）\n",
    "\n",
    "#### 基本用法\n",
    "\n",
    "```javascript\n",
    "nums = [1, 2, 3, 4, 5, 6, 7, 8, 9, 10];\n",
    "nums2 = nums.filter(item => item % 2 == 0);\n",
    "// [2, 4, 6, 8, 10]\n",
    "console.log(nums2) // 不改变旧数组的值\n",
    "```\n",
    "\n",
    "#### Python3\n",
    "\n",
    "Python略有不同：(`把函数依次作用在list的每个元素上`)\n",
    "```py\n",
    "nums = [1, 2, 3, 4, 5, 6, 7, 8, 9, 10]\n",
    "nums2 = filter(lambda item: item % 2 == 0, nums)\n",
    "# [2, 4, 6, 8, 10] 不改变旧list的值\n",
    "print(list(nums2)) # nums2：PY2直接返回list\n",
    "```\n",
    "\n",
    "---\n",
    "\n",
    "### 4.3.forEach\n",
    "\n",
    "#### 基本用法\n",
    "\n",
    "```javascript\n",
    "\n",
    "```\n",
    "\n",
    "#### Python3\n",
    "\n",
    "```py\n",
    "\n",
    "```\n",
    "\n",
    "---\n",
    "\n",
    "### 4.4.reduce\n",
    "\n",
    "```javascript\n",
    "\n",
    "```\n",
    "\n",
    "#### Python3\n",
    "\n",
    "```py\n",
    "\n",
    "```\n"
   ]
  },
  {
   "cell_type": "code",
   "execution_count": null,
   "metadata": {},
   "outputs": [],
   "source": []
  },
  {
   "cell_type": "code",
   "execution_count": null,
   "metadata": {},
   "outputs": [],
   "source": []
  },
  {
   "cell_type": "code",
   "execution_count": null,
   "metadata": {},
   "outputs": [],
   "source": []
  },
  {
   "cell_type": "code",
   "execution_count": null,
   "metadata": {},
   "outputs": [],
   "source": []
  }
 ],
 "metadata": {
  "kernelspec": {
   "display_name": "Python 3",
   "language": "python",
   "name": "python3"
  },
  "language_info": {
   "codemirror_mode": {
    "name": "ipython",
    "version": 3
   },
   "file_extension": ".py",
   "mimetype": "text/x-python",
   "name": "python",
   "nbconvert_exporter": "python",
   "pygments_lexer": "ipython3",
   "version": "3.6.6"
  }
 },
 "nbformat": 4,
 "nbformat_minor": 2
}
