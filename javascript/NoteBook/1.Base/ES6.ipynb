{
 "cells": [
  {
   "cell_type": "markdown",
   "metadata": {},
   "source": [
    "# ES6基础\n",
    "\n",
    "## 1.变量\n",
    "\n",
    "1. `var`：可以重复定义，不能限制修改，没有块级作用域（和Python差不多）\n",
    "2. `let`：不可以重复定义，相当于C#的变量，块级作用域（以后var全部换成let）\n",
    "3. `const`：不可以重复定义，相当于C#的常量，块级作用域"
   ]
  },
  {
   "cell_type": "code",
   "execution_count": 1,
   "metadata": {},
   "outputs": [],
   "source": [
    "// 可以重复定义的验证："
   ]
  },
  {
   "cell_type": "code",
   "execution_count": 2,
   "metadata": {
    "scrolled": true
   },
   "outputs": [
    {
     "name": "stdout",
     "output_type": "stream",
     "text": [
      "5\n"
     ]
    }
   ],
   "source": [
    "// var可以重复定义\n",
    "var a1 = 12; // 定义了一个a变量\n",
    "// 写了若干代码\n",
    "var a1 = 5; // 然后又重新定义了一个a，这时候可能就有潜在bug了\n",
    "console.log(a1)"
   ]
  },
  {
   "cell_type": "code",
   "execution_count": 3,
   "metadata": {
    "scrolled": false
   },
   "outputs": [
    {
     "ename": "SyntaxError",
     "evalue": "Identifier 'a2' has already been declared",
     "output_type": "error",
     "traceback": [
      "evalmachine.<anonymous>:3",
      "let a2 = 5;",
      "    ^",
      "",
      "SyntaxError: Identifier 'a2' has already been declared",
      "    at createScript (vm.js:80:10)",
      "    at Object.runInThisContext (vm.js:139:10)",
      "    at run ([eval]:1002:15)",
      "    at onRunRequest ([eval]:829:18)",
      "    at onMessage ([eval]:789:13)",
      "    at emitTwo (events.js:126:13)",
      "    at process.emit (events.js:214:7)",
      "    at emit (internal/child_process.js:772:12)",
      "    at _combinedTickCallback (internal/process/next_tick.js:141:11)",
      "    at process._tickCallback (internal/process/next_tick.js:180:9)"
     ]
    }
   ],
   "source": [
    "// let不可以重复定义，相当于C#的变量（以后var全部换成let）\n",
    "let a2 = 12;\n",
    "let a2 = 5;\n",
    "\n",
    "// 标识符a已经被声明\n",
    "console.log(a2) // Identifier 'a2' has already been declared"
   ]
  },
  {
   "cell_type": "code",
   "execution_count": 4,
   "metadata": {
    "scrolled": false
   },
   "outputs": [
    {
     "ename": "SyntaxError",
     "evalue": "Identifier 'a3' has already been declared",
     "output_type": "error",
     "traceback": [
      "evalmachine.<anonymous>:4",
      "const a3 = 5;",
      "      ^",
      "",
      "SyntaxError: Identifier 'a3' has already been declared",
      "    at createScript (vm.js:80:10)",
      "    at Object.runInThisContext (vm.js:139:10)",
      "    at run ([eval]:1002:15)",
      "    at onRunRequest ([eval]:829:18)",
      "    at onMessage ([eval]:789:13)",
      "    at emitTwo (events.js:126:13)",
      "    at process.emit (events.js:214:7)",
      "    at emit (internal/child_process.js:772:12)",
      "    at _combinedTickCallback (internal/process/next_tick.js:141:11)",
      "    at process._tickCallback (internal/process/next_tick.js:180:9)"
     ]
    }
   ],
   "source": [
    "// const：不可以重复定义，相当于C#的常量\n",
    "\n",
    "const a3 = 12;\n",
    "const a3 = 5;\n",
    "\n",
    "// 标识符a已经被声明\n",
    "console.log(a3) // Identifier 'a3' has already been declared"
   ]
  },
  {
   "cell_type": "code",
   "execution_count": 5,
   "metadata": {},
   "outputs": [],
   "source": [
    "// 可以被修改的验证："
   ]
  },
  {
   "cell_type": "code",
   "execution_count": 6,
   "metadata": {},
   "outputs": [
    {
     "name": "stdout",
     "output_type": "stream",
     "text": [
      "3\n"
     ]
    }
   ],
   "source": [
    "var a = 2;\n",
    "a = 3;\n",
    "\n",
    "// var 可以修改\n",
    "console.log(a)"
   ]
  },
  {
   "cell_type": "code",
   "execution_count": 7,
   "metadata": {},
   "outputs": [
    {
     "name": "stdout",
     "output_type": "stream",
     "text": [
      "3\n"
     ]
    }
   ],
   "source": [
    "let b = 2;\n",
    "b = 3;\n",
    "\n",
    "// let 可以修改\n",
    "console.log(b)"
   ]
  },
  {
   "cell_type": "code",
   "execution_count": 8,
   "metadata": {
    "scrolled": true
   },
   "outputs": [
    {
     "ename": "TypeError",
     "evalue": "Assignment to constant variable.",
     "output_type": "error",
     "traceback": [
      "evalmachine.<anonymous>:3",
      "c = 5;",
      "  ^",
      "",
      "TypeError: Assignment to constant variable.",
      "    at evalmachine.<anonymous>:3:3",
      "    at ContextifyScript.Script.runInThisContext (vm.js:50:33)",
      "    at Object.runInThisContext (vm.js:139:38)",
      "    at run ([eval]:1002:15)",
      "    at onRunRequest ([eval]:829:18)",
      "    at onMessage ([eval]:789:13)",
      "    at emitTwo (events.js:126:13)",
      "    at process.emit (events.js:214:7)",
      "    at emit (internal/child_process.js:772:12)",
      "    at _combinedTickCallback (internal/process/next_tick.js:141:11)"
     ]
    }
   ],
   "source": [
    "// const 不可以修改\n",
    "const c = 12;\n",
    "c = 5;\n",
    "\n",
    "// 不能赋值给常量变量\n",
    "console.log(c) // Assignment to constant variable."
   ]
  },
  {
   "cell_type": "code",
   "execution_count": 9,
   "metadata": {},
   "outputs": [],
   "source": [
    "// 验证作用域："
   ]
  },
  {
   "cell_type": "code",
   "execution_count": 10,
   "metadata": {},
   "outputs": [
    {
     "name": "stdout",
     "output_type": "stream",
     "text": [
      "1\n"
     ]
    }
   ],
   "source": [
    "// var没有块级作用域\n",
    "if(1<2){\n",
    "    var b1 = 1;\n",
    "}\n",
    "console.log(b1) // 1"
   ]
  },
  {
   "cell_type": "code",
   "execution_count": 11,
   "metadata": {},
   "outputs": [
    {
     "ename": "ReferenceError",
     "evalue": "b2 is not defined",
     "output_type": "error",
     "traceback": [
      "evalmachine.<anonymous>:5",
      "console.log(b2) // ReferenceError: b is not defined",
      "            ^",
      "",
      "ReferenceError: b2 is not defined",
      "    at evalmachine.<anonymous>:5:13",
      "    at ContextifyScript.Script.runInThisContext (vm.js:50:33)",
      "    at Object.runInThisContext (vm.js:139:38)",
      "    at run ([eval]:1002:15)",
      "    at onRunRequest ([eval]:829:18)",
      "    at onMessage ([eval]:789:13)",
      "    at emitTwo (events.js:126:13)",
      "    at process.emit (events.js:214:7)",
      "    at emit (internal/child_process.js:772:12)",
      "    at _combinedTickCallback (internal/process/next_tick.js:141:11)"
     ]
    }
   ],
   "source": [
    "// 和我们平时使用差不多了\n",
    "if(1<2){\n",
    "    let b2 = 1;\n",
    "}\n",
    "console.log(b2) // ReferenceError: b2 is not defined"
   ]
  },
  {
   "cell_type": "code",
   "execution_count": 12,
   "metadata": {},
   "outputs": [],
   "source": [
    "// 扩展：var变量和Python类似\n",
    "// if 1 < 2:\n",
    "//     b = 1\n",
    "// print(b) # 1\n",
    "\n",
    "// 结论：(以后var全部换成let)\n",
    "// 1. `var`：可以重复定义，不能限制修改，没有块级作用域（和Python差不多）\n",
    "// 2. `let`：不可以重复定义，相当于C#的变量，块级作用域（以后var全部换成let）\n",
    "// 3. `const`：不可以重复定义，相当于C#的常量，块级作用域"
   ]
  },
  {
   "cell_type": "markdown",
   "metadata": {},
   "source": [
    "## 2.解构赋值\n",
    "\n",
    "这个特性不管是`C#`还是`ES6`都是从`Python`那借鉴过来的，特点：\n",
    "1. 左右两边结构一样\n",
    "2. 定义和赋值同时完成\n",
    "\n",
    "### 基础\n",
    "\n",
    "简单版：\n",
    "```javascript\n",
    "let [a,b,c] = [1,2,3];\n",
    "console.log(a,b,c); // 1 2 3\n",
    "```\n",
    "\n",
    "变化版：\n",
    "```javascript\n",
    "let {a,b,c} = {a:1,b:2,c:3}; // json格式对应也行\n",
    "console.log(a,b,c); // 1 2 3\n",
    "```\n",
    "PS：把后面改成`{a1:1,b1:2,c1:3}`就变成`undefined undefined undefined`\n",
    "\n",
    "复杂版：\n",
    "```javascript\n",
    "let [x, { a, b, c }, y] = [4, { a: 1, b: 2, c: 3 }, 5];\n",
    "console.log(a, b, c, x, y); // 1 2 3 4 5\n",
    "```\n",
    "\n",
    "### 验证\n",
    "\n",
    "验证：**左右两边结构需要一样**\n",
    "```javascript\n",
    "// 这种就不行，格式得对应（左边3，右边5个 ==> over）\n",
    "let [x, { a, b, c }, y] = { a: 1, b: 2, c: 3, x: 4, y: 5 };\n",
    "console.log(a, b, c, x, y); // 未捕获的TypeError：{...}不可迭代\n",
    "```\n",
    "\n",
    "验证：**定义和赋值同时完成**\n",
    "```javascript\n",
    "let [a, b, c];\n",
    "[a, b, c] = [1, 2, 3];\n",
    "// 未捕获的SyntaxError：在解构声明中缺少初始化程序\n",
    "console.log(a, b, c);\n",
    "```\n"
   ]
  },
  {
   "cell_type": "markdown",
   "metadata": {},
   "source": [
    "## 3.函数系\n",
    "\n"
   ]
  },
  {
   "cell_type": "code",
   "execution_count": null,
   "metadata": {},
   "outputs": [],
   "source": []
  },
  {
   "cell_type": "code",
   "execution_count": null,
   "metadata": {},
   "outputs": [],
   "source": []
  }
 ],
 "metadata": {
  "kernelspec": {
   "display_name": "Javascript (Node.js)",
   "language": "javascript",
   "name": "javascript"
  },
  "language_info": {
   "file_extension": ".js",
   "mimetype": "application/javascript",
   "name": "javascript",
   "version": "8.10.0"
  }
 },
 "nbformat": 4,
 "nbformat_minor": 2
}
