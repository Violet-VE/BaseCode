{
 "cells": [
  {
   "cell_type": "code",
   "execution_count": 1,
   "metadata": {},
   "outputs": [],
   "source": [
    "####################### 函数递归 ###################################"
   ]
  },
  {
   "cell_type": "code",
   "execution_count": 2,
   "metadata": {},
   "outputs": [],
   "source": [
    "# 函数递归调用其实就是自己调用自己，关键点只要考虑什么时候跳出即可(没有跳出就是死循环)\n",
    "# 阶乘案例 n!\n",
    "def factorial(n):\n",
    "    if n==1:\n",
    "        return n #跳出\n",
    "    return n*factorial(n-1) #规律公式"
   ]
  },
  {
   "cell_type": "code",
   "execution_count": 3,
   "metadata": {},
   "outputs": [
    {
     "name": "stdout",
     "output_type": "stream",
     "text": [
      "24\n"
     ]
    }
   ],
   "source": [
    "print(factorial(4))"
   ]
  },
  {
   "cell_type": "code",
   "execution_count": 4,
   "metadata": {},
   "outputs": [],
   "source": [
    "# 利用切片操作，实现一个trim()函数，去除字符串首尾的空格\n",
    "# 跳出点==> 第一个字符和最后一个字符不是空格\n",
    "def my_trim(input_str):\n",
    "    if input_str[0] != \" \" and input_str[-1] != \" \":\n",
    "        return input_str\n",
    "    elif input_str[0]==\" \":\n",
    "        return my_trim(input_str[1:])#从第二个到最后一个字符\n",
    "    elif input_str[-1]==\" \":\n",
    "        return my_trim(input_str[:-1])#从第一个到倒数第二个(end_index取不到)"
   ]
  },
  {
   "cell_type": "code",
   "execution_count": 5,
   "metadata": {},
   "outputs": [
    {
     "name": "stdout",
     "output_type": "stream",
     "text": [
      "我去\n",
      "我去\n",
      "我去\n"
     ]
    }
   ],
   "source": [
    "print(my_trim(\"我去  \"))\n",
    "print(my_trim(\"  我去\"))\n",
    "print(my_trim(\"  我去  \"))"
   ]
  },
  {
   "cell_type": "code",
   "execution_count": 6,
   "metadata": {},
   "outputs": [],
   "source": [
    "####################### 匿名函数 ###################################"
   ]
  },
  {
   "cell_type": "code",
   "execution_count": 7,
   "metadata": {},
   "outputs": [],
   "source": [
    "# Python对匿名函数的支持有限，只有一些简单的情况下可以使用匿名函数\n",
    "# lambda 参数: 表达式\n",
    "# 来个简单求和案例:\n",
    "sum=lambda a,b: a+b"
   ]
  },
  {
   "cell_type": "code",
   "execution_count": 8,
   "metadata": {},
   "outputs": [
    {
     "data": {
      "text/plain": [
       "3"
      ]
     },
     "execution_count": 8,
     "metadata": {},
     "output_type": "execute_result"
    }
   ],
   "source": [
    "sum(1,2) #调用一下看看(有点js的感觉,函数可以直接赋值给变量,然后直接用)"
   ]
  },
  {
   "cell_type": "code",
   "execution_count": 9,
   "metadata": {},
   "outputs": [],
   "source": [
    "# 来个实际案例,还记得list的排序吗?\n",
    "# 这次按照指定key排序(有点 SQL 里面 order by 的感觉)\n",
    "data_list=[\n",
    "    {\"name\":\"a张三\",\"age\":21},\n",
    "    {\"name\":\"b李四\",\"age\":23},\n",
    "    {\"name\":\"a王五\",\"age\":22}]"
   ]
  },
  {
   "cell_type": "code",
   "execution_count": 10,
   "metadata": {},
   "outputs": [
    {
     "name": "stdout",
     "output_type": "stream",
     "text": [
      "Help on built-in function sort:\n",
      "\n",
      "sort(...) method of builtins.list instance\n",
      "    L.sort(key=None, reverse=False) -> None -- stable sort *IN PLACE*\n",
      "\n"
     ]
    }
   ],
   "source": [
    "help(data_list.sort)"
   ]
  },
  {
   "cell_type": "code",
   "execution_count": 11,
   "metadata": {},
   "outputs": [
    {
     "name": "stdout",
     "output_type": "stream",
     "text": [
      "[{'name': 'a张三', 'age': 21}, {'name': 'a王五', 'age': 22}, {'name': 'b李四', 'age': 23}]\n",
      "[{'name': 'a张三', 'age': 21}, {'name': 'a王五', 'age': 22}, {'name': 'b李四', 'age': 23}]\n"
     ]
    }
   ],
   "source": [
    "# 按照age排序\n",
    "data_list.sort(key=lambda x:x[\"age\"])\n",
    "print(data_list)\n",
    "\n",
    "# 按照name排序\n",
    "data_list.sort(key=lambda x:x[\"name\"])\n",
    "print(data_list)"
   ]
  },
  {
   "cell_type": "code",
   "execution_count": 12,
   "metadata": {},
   "outputs": [],
   "source": [
    "# 当函数的参数传递(有时候需要传一个匿名方法去函数中处理某些事情)\n",
    "def sum(a,b,func):\n",
    "   return func(a,b)"
   ]
  },
  {
   "cell_type": "code",
   "execution_count": 13,
   "metadata": {},
   "outputs": [
    {
     "data": {
      "text/plain": [
       "3"
      ]
     },
     "execution_count": 13,
     "metadata": {},
     "output_type": "execute_result"
    }
   ],
   "source": [
    "sum(1,2,lambda x,y: x+y)"
   ]
  },
  {
   "cell_type": "code",
   "execution_count": 14,
   "metadata": {},
   "outputs": [],
   "source": [
    "####################### 验证系列 ###################################"
   ]
  },
  {
   "cell_type": "code",
   "execution_count": 15,
   "metadata": {},
   "outputs": [],
   "source": [
    "# 之前很多资料说py3匿名函数里不能调用print函数,自己测试下\n",
    "# 定义一个无参匿名函数\n",
    "printf=lambda:print(\"I Love You\")"
   ]
  },
  {
   "cell_type": "code",
   "execution_count": 16,
   "metadata": {},
   "outputs": [
    {
     "name": "stdout",
     "output_type": "stream",
     "text": [
      "I Love You\n"
     ]
    }
   ],
   "source": [
    "printf()"
   ]
  },
  {
   "cell_type": "code",
   "execution_count": null,
   "metadata": {},
   "outputs": [],
   "source": []
  }
 ],
 "metadata": {
  "kernelspec": {
   "display_name": "Python 3",
   "language": "python",
   "name": "python3"
  },
  "language_info": {
   "codemirror_mode": {
    "name": "ipython",
    "version": 3
   },
   "file_extension": ".py",
   "mimetype": "text/x-python",
   "name": "python",
   "nbconvert_exporter": "python",
   "pygments_lexer": "ipython3",
   "version": "3.6.5"
  }
 },
 "nbformat": 4,
 "nbformat_minor": 2
}
