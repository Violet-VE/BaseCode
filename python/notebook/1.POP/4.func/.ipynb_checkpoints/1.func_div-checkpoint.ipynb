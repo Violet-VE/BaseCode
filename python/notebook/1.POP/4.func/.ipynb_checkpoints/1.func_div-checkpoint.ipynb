{
 "cells": [
  {
   "cell_type": "code",
   "execution_count": 1,
   "metadata": {},
   "outputs": [],
   "source": [
    "# 定义一个无参函数\n",
    "def get_name():\n",
    "    print(\"我叫张三\")"
   ]
  },
  {
   "cell_type": "code",
   "execution_count": 2,
   "metadata": {},
   "outputs": [
    {
     "name": "stdout",
     "output_type": "stream",
     "text": [
      "我叫张三\n"
     ]
    }
   ],
   "source": [
    "# 调用一个无参函数\n",
    "get_name()"
   ]
  },
  {
   "cell_type": "code",
   "execution_count": 3,
   "metadata": {},
   "outputs": [],
   "source": [
    "# 定义一个含参数的函数（name和age都是形参）\n",
    "def show_infos(name,age):\n",
    "    \"\"\"打印name和age\"\"\"#函数文档说明\n",
    "    print(\"我叫\",name,\"我的年龄是\",age)#这种输出方式会自动以空格连接字符串"
   ]
  },
  {
   "cell_type": "code",
   "execution_count": 4,
   "metadata": {},
   "outputs": [
    {
     "name": "stdout",
     "output_type": "stream",
     "text": [
      "我叫 李四 我的年龄是 22\n"
     ]
    }
   ],
   "source": [
    "# 调用一个含参数的函数\n",
    "show_infos(\"李四\",22)#实参"
   ]
  },
  {
   "cell_type": "code",
   "execution_count": 5,
   "metadata": {},
   "outputs": [],
   "source": [
    "# 定义有返回值的函数\n",
    "def div_have_return(a,b):\n",
    "    \"\"\"计算a+b，返回计算结果\"\"\"#函数文档说明\n",
    "    return a+b"
   ]
  },
  {
   "cell_type": "code",
   "execution_count": 6,
   "metadata": {},
   "outputs": [
    {
     "name": "stdout",
     "output_type": "stream",
     "text": [
      "计算结果为 3\n"
     ]
    }
   ],
   "source": [
    "# 调用有返回值的函数\n",
    "result=div_have_return(1,2)\n",
    "print(\"计算结果为\",result)"
   ]
  },
  {
   "cell_type": "code",
   "execution_count": 7,
   "metadata": {},
   "outputs": [],
   "source": [
    "# 定义含有多个返回值的函数（利用了元组）\n",
    "def div_have_returns(a,b):\n",
    "    \"\"\"计算a+b的和，计算a-b，并返回两个结果\"\"\"\n",
    "    return (a+b),(a-b)"
   ]
  },
  {
   "cell_type": "code",
   "execution_count": 9,
   "metadata": {},
   "outputs": [
    {
     "name": "stdout",
     "output_type": "stream",
     "text": [
      "sum: 3 D-value: -1\n"
     ]
    }
   ],
   "source": [
    "# 调用含有多个返回值的函数\n",
    "sum,dvalue=div_have_returns(1,2)\n",
    "print(\"sum:\",result,\"D-value:\",dvalue)"
   ]
  },
  {
   "cell_type": "code",
   "execution_count": null,
   "metadata": {},
   "outputs": [],
   "source": []
  }
 ],
 "metadata": {
  "kernelspec": {
   "display_name": "Python 3",
   "language": "python",
   "name": "python3"
  },
  "language_info": {
   "codemirror_mode": {
    "name": "ipython",
    "version": 3
   },
   "file_extension": ".py",
   "mimetype": "text/x-python",
   "name": "python",
   "nbconvert_exporter": "python",
   "pygments_lexer": "ipython3",
   "version": "3.6.5"
  }
 },
 "nbformat": 4,
 "nbformat_minor": 2
}
