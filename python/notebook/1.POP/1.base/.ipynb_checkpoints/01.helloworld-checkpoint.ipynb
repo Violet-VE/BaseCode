{
 "cells": [
  {
   "cell_type": "code",
   "execution_count": 1,
   "metadata": {},
   "outputs": [
    {
     "data": {
      "text/plain": [
       "'三个单引号多行注释：\\nprint(\"Hello World!\")\\nprint(\"Hello World!\")\\nprint(\"Hello World!\")'"
      ]
     },
     "execution_count": 1,
     "metadata": {},
     "output_type": "execute_result"
    }
   ],
   "source": [
    "'''三个单引号多行注释：\n",
    "print(\"Hello World!\")\n",
    "print(\"Hello World!\")\n",
    "print(\"Hello World!\")'''"
   ]
  },
  {
   "cell_type": "code",
   "execution_count": 2,
   "metadata": {},
   "outputs": [
    {
     "data": {
      "text/plain": [
       "'三个双引号多行注释：\\nprint(\"Hello World!\")\\nprint(\"Hello World!\")\\nprint(\"Hello World!\")'"
      ]
     },
     "execution_count": 2,
     "metadata": {},
     "output_type": "execute_result"
    }
   ],
   "source": [
    "\"\"\"三个双引号多行注释：\n",
    "print(\"Hello World!\")\n",
    "print(\"Hello World!\")\n",
    "print(\"Hello World!\")\"\"\""
   ]
  },
  {
   "cell_type": "code",
   "execution_count": 3,
   "metadata": {},
   "outputs": [
    {
     "name": "stdout",
     "output_type": "stream",
     "text": [
      "Hello World!\n"
     ]
    }
   ],
   "source": [
    "#单行注释 输出\n",
    "print(\"Hello World!\")"
   ]
  },
  {
   "cell_type": "code",
   "execution_count": 4,
   "metadata": {},
   "outputs": [
    {
     "name": "stdout",
     "output_type": "stream",
     "text": [
      "小明\n"
     ]
    }
   ],
   "source": [
    "#定义一个变量并输出\n",
    "name=\"小明\"\n",
    "print(name)"
   ]
  },
  {
   "cell_type": "code",
   "execution_count": 5,
   "metadata": {},
   "outputs": [
    {
     "name": "stdout",
     "output_type": "stream",
     "text": [
      "xxxxxxxxxx\n"
     ]
    }
   ],
   "source": [
    "print(\"x\"*10)"
   ]
  },
  {
   "cell_type": "code",
   "execution_count": 6,
   "metadata": {},
   "outputs": [
    {
     "name": "stdout",
     "output_type": "stream",
     "text": [
      "dnt.dkill.net/now带你走进中医经络\n"
     ]
    }
   ],
   "source": [
    "print(\"dnt.dkill.net/now\",end='')\n",
    "print(\"带你走进中医经络\")"
   ]
  },
  {
   "cell_type": "code",
   "execution_count": 7,
   "metadata": {},
   "outputs": [
    {
     "name": "stdout",
     "output_type": "stream",
     "text": [
      "dnt.dkill.net/now带你走进中医经络\n"
     ]
    }
   ],
   "source": [
    "print(\"dnt.dkill.net/now\",end=\"\")\n",
    "print(\"带你走进中医经络\")"
   ]
  },
  {
   "cell_type": "code",
   "execution_count": 8,
   "metadata": {},
   "outputs": [
    {
     "name": "stdout",
     "output_type": "stream",
     "text": [
      "I'm \"OK\"!\n"
     ]
    }
   ],
   "source": [
    "#如果字符串内部既包含'又包含\"怎么办？可以用转义字符\\来标识\n",
    "print(\"I\\'m \\\"OK\\\"!\")"
   ]
  },
  {
   "cell_type": "code",
   "execution_count": 9,
   "metadata": {},
   "outputs": [
    {
     "name": "stdout",
     "output_type": "stream",
     "text": [
      "\\\\\\t\\\\\n"
     ]
    }
   ],
   "source": [
    "# 如果字符串里面有很多字符都需要转义，就需要加很多\\，为了简化，Python还允许用r''表示''内部的字符串默认不转义\n",
    "print(r'\\\\\\t\\\\')"
   ]
  },
  {
   "cell_type": "code",
   "execution_count": 10,
   "metadata": {},
   "outputs": [
    {
     "name": "stdout",
     "output_type": "stream",
     "text": [
      "我请你吃饭吧～\n",
      "晚上吃啥？\n",
      "去厕所，你说呢？\n"
     ]
    }
   ],
   "source": [
    "#如果字符串内部有很多换行，用\\n写在一行里不好阅读，为了简化，Python允许用'''...'''的格式表示多行内容\n",
    "print('''我请你吃饭吧～\n",
    "晚上吃啥？\n",
    "去厕所，你说呢？''')"
   ]
  },
  {
   "cell_type": "code",
   "execution_count": null,
   "metadata": {},
   "outputs": [],
   "source": []
  }
 ],
 "metadata": {
  "kernelspec": {
   "display_name": "Python 3",
   "language": "python",
   "name": "python3"
  },
  "language_info": {
   "codemirror_mode": {
    "name": "ipython",
    "version": 3
   },
   "file_extension": ".py",
   "mimetype": "text/x-python",
   "name": "python",
   "nbconvert_exporter": "python",
   "pygments_lexer": "ipython3",
   "version": "3.6.5"
  }
 },
 "nbformat": 4,
 "nbformat_minor": 2
}
