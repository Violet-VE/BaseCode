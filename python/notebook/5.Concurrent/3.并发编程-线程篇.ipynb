{
 "cells": [
  {
   "cell_type": "markdown",
   "metadata": {},
   "source": [
    "# 2.线程篇\n",
    "\n",
    "用过Java或者Net的重点都在线程这块，Python的重点其实在上篇，但线程自有其独到之处～比如资源共享（更轻量级）\n",
    "\n",
    "这次采用循序渐进的方式讲解，`先使用，再分析，然后深入，最后来个案例`，呃.呃.呃.先这样计划～\n",
    "\n",
    "## 2.1.入门篇\n",
    "\n",
    "先不BB，咱先看个案例：\n",
    "```py\n",
    "\n",
    "```\n",
    "注意一点：Python里面的线程是**<a href=\"https://baike.baidu.com/item/POSIX线程\" target=\"_blank\">Posix Thread</a>**\n"
   ]
  },
  {
   "cell_type": "code",
   "execution_count": null,
   "metadata": {},
   "outputs": [],
   "source": []
  },
  {
   "cell_type": "markdown",
   "metadata": {},
   "source": [
    "# 3.并行篇"
   ]
  }
 ],
 "metadata": {
  "kernelspec": {
   "display_name": "Python 3",
   "language": "python",
   "name": "python3"
  },
  "language_info": {
   "codemirror_mode": {
    "name": "ipython",
    "version": 3
   },
   "file_extension": ".py",
   "mimetype": "text/x-python",
   "name": "python",
   "nbconvert_exporter": "python",
   "pygments_lexer": "ipython3",
   "version": "3.6.5"
  }
 },
 "nbformat": 4,
 "nbformat_minor": 2
}
