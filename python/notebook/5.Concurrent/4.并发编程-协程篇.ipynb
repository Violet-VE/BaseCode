{
 "cells": [
  {
   "cell_type": "markdown",
   "metadata": {},
   "source": [
    "# 3.协程篇\n",
    "\n",
    "多进程和多线程切换之间也是有资源浪费的，相比而言协程更轻量级\n",
    "\n",
    "## 3.1.知识回顾\n",
    "\n",
    "### 1.装饰器\n",
    "\n",
    "往期文章：<a href=\"https://www.cnblogs.com/dotnetcrazy/p/9333792.html#2.Python装饰器\" target=\"_blank\">https://www.cnblogs.com/dotnetcrazy/p/9333792.html#2.Python装饰器</a>\n",
    "\n",
    "基础拓展篇已经讲的很透彻了，就不再雷同了，贴一个简单案例，然后扩展说说**`可迭代`、`迭代器`和`生成器`**"
   ]
  },
  {
   "cell_type": "code",
   "execution_count": 1,
   "metadata": {},
   "outputs": [
    {
     "name": "stdout",
     "output_type": "stream",
     "text": [
      "CPU times: user 3 µs, sys: 0 ns, total: 3 µs\n",
      "Wall time: 5.48 µs\n",
      "方法签名：login_out\n",
      "login_out log_info...\n",
      "已经退出登录\n",
      "已经退出登录\n"
     ]
    }
   ],
   "source": [
    "% time\n",
    "\n",
    "from functools import wraps\n",
    "\n",
    "def log(func):\n",
    "    @wraps(func)\n",
    "    def wrapper(*args,**kv):\n",
    "        print(\"%s log_info...\" % func.__name__)\n",
    "        return func(*args,**kv)\n",
    "    return wrapper\n",
    "\n",
    "@log\n",
    "def login_out():\n",
    "    print(\"已经退出登录\")\n",
    "\n",
    "def main():\n",
    "    # @wraps(func) 可以使得装饰前后，方法签名一致\n",
    "    print(f\"方法签名：{login_out.__name__}\")\n",
    "    login_out()\n",
    "    \n",
    "    # @wraps能让你通过属性 __wrapped__ 直接访问被包装函数\n",
    "    login_out.__wrapped__() # 执行原来的函数\n",
    "\n",
    "if __name__ == '__main__':\n",
    "    main()"
   ]
  },
  {
   "cell_type": "markdown",
   "metadata": {},
   "source": [
    "### 2.迭代器\n",
    "\n",
    "往期文章：<a href=\"https://www.cnblogs.com/dotnetcrazy/p/9278573.html#6.Python迭代器\" target=\"_blank\">https://www.cnblogs.com/dotnetcrazy/p/9278573.html#6.Python迭代器</a>\n",
    "\n",
    "过于基础的就不说了，简单说下，然后举一个`OOP`的`Demo`：\n",
    "1. **判断是否可迭代：（能不能for遍历）**\n",
    "    - `from collections.abc import Iterable`\n",
    "    - `isinstance(xxx, Iterable)`\n",
    "2. **判断是否是迭代器：（能不能`next(xxx)`遍历）**\n",
    "    - `from collections.abc import Iterator`\n",
    "    - `isinstance(xxx, Iterable)`\n",
    "    - PS：迭代器是一定可以迭代的\n",
    "3. **可迭代对象转迭代器：（生成器都是迭代器）**\n",
    "    - 把`list、dict、str`等`Iterable`变成`Iterator`可以使用`iter()`函数 eg：**`iter([])`**（节省资源）\n",
    "    - PS：生成器都是`Iterator`对象，但list、dict、str虽然是`Iterable`，却不是`Iterator`\n",
    "\n",
    "**提醒一下：`from collections import Iterable, Iterator # 现在已经不推荐使用了（3.8会弃用）`**\n",
    "\n",
    "查看一下`typing.py`的源码就知道了:\n",
    "```PY\n",
    "# 模仿collections.abc中的那些（Python3.7目前只是过渡的兼容版，没有具体实现）\n",
    "def _alias(origin, params, inst=True):\n",
    "    return _GenericAlias(origin, params, special=True, inst=inst)\n",
    "\n",
    "T_co = TypeVar('T_co', covariant=True)  # Any type covariant containers.\n",
    "\n",
    "Iterable = _alias(collections.abc.Iterable, T_co)\n",
    "Iterator = _alias(collections.abc.Iterator, T_co)\n",
    "```\n",
    "\n",
    "之前说了个 <a href=\"https://www.cnblogs.com/dotnetcrazy/p/9278573.html#7.1.IEnumerator-%E5%92%8C-IEnumerable\" target=\"_blank\">CSharp 的 OOP Demo</a>，这次来个`Python`的，我们来一步步演变："
   ]
  },
  {
   "cell_type": "code",
   "execution_count": 2,
   "metadata": {},
   "outputs": [
    {
     "name": "stdout",
     "output_type": "stream",
     "text": [
      "CPU times: user 2 µs, sys: 0 ns, total: 2 µs\n",
      "Wall time: 4.77 µs\n"
     ]
    }
   ],
   "source": [
    "% time\n",
    "\n",
    "# 导入相关模块\n",
    "from collections.abc import Iterable, Iterator\n",
    "# from collections import Iterable, Iterator # 现在已经不推荐使用了（3.8会弃用）"
   ]
  },
  {
   "cell_type": "code",
   "execution_count": 3,
   "metadata": {},
   "outputs": [],
   "source": [
    "# 定义一个Class\n",
    "class MyArray(object):\n",
    "    pass"
   ]
  },
  {
   "cell_type": "code",
   "execution_count": 4,
   "metadata": {
    "scrolled": true
   },
   "outputs": [
    {
     "data": {
      "text/plain": [
       "False"
      ]
     },
     "execution_count": 4,
     "metadata": {},
     "output_type": "execute_result"
    }
   ],
   "source": [
    "# 是否可迭代 False\n",
    "isinstance(MyArray(),Iterable)"
   ]
  },
  {
   "cell_type": "code",
   "execution_count": 5,
   "metadata": {},
   "outputs": [
    {
     "data": {
      "text/plain": [
       "False"
      ]
     },
     "execution_count": 5,
     "metadata": {},
     "output_type": "execute_result"
    }
   ],
   "source": [
    "# 是否是迭代器 False\n",
    "isinstance(MyArray(),Iterator)"
   ]
  },
  {
   "cell_type": "code",
   "execution_count": 6,
   "metadata": {},
   "outputs": [],
   "source": [
    "# 如果Class里面含有`__iter__`方法就是可迭代的"
   ]
  },
  {
   "cell_type": "code",
   "execution_count": 7,
   "metadata": {},
   "outputs": [
    {
     "data": {
      "text/plain": [
       "True"
      ]
     },
     "execution_count": 7,
     "metadata": {},
     "output_type": "execute_result"
    }
   ],
   "source": [
    "# 重新定义测试：\n",
    "class MyArray(object):\n",
    "    def __iter__(self):\n",
    "        pass\n",
    "\n",
    "# 是否可迭代 False\n",
    "isinstance(MyArray(),Iterable)"
   ]
  },
  {
   "cell_type": "code",
   "execution_count": 8,
   "metadata": {
    "scrolled": true
   },
   "outputs": [
    {
     "data": {
      "text/plain": [
       "False"
      ]
     },
     "execution_count": 8,
     "metadata": {},
     "output_type": "execute_result"
    }
   ],
   "source": [
    "# 是否是迭代器 False\n",
    "isinstance(MyArray(),Iterator)"
   ]
  },
  {
   "cell_type": "markdown",
   "metadata": {},
   "source": [
    "**这时候依然不是迭代器**\n",
    "\n",
    "这个可以类比C#：\n",
    "1. 能不能foreach就看你遍历对象有没有实现IEnumerable，就说明你是不是一个可枚举类型（enumerator type）\n",
    "2. 是不是个枚举器（enumerator）就看你实现了IEnumerator接口没\n",
    "\n",
    "```csharp\n",
    "// 能不能foreach就看你遍历对象有没有实现IEnumerable，就说明你是不是一个可枚举类型\n",
    "public interface IEnumerable\n",
    "{\n",
    "    IEnumerator GetEnumerator();\n",
    "}\n",
    "\n",
    "// 是不是个枚举器（enumerator）就看你实现了IEnumerator接口没\n",
    "public interface IEnumerator\n",
    "{\n",
    "    object Current { get; }\n",
    "\n",
    "    bool MoveNext();\n",
    "\n",
    "    void Reset();\n",
    "}\n",
    "```\n",
    "先看看Python对于的类吧：\n",
    "```py\n",
    "# https://github.com/lotapp/cpython3/blob/master/Lib/_collections_abc.py\n",
    "class Iterable(metaclass=ABCMeta):\n",
    "\n",
    "    __slots__ = ()\n",
    "\n",
    "    @abstractmethod\n",
    "    def __iter__(self):\n",
    "        while False:\n",
    "            yield None\n",
    "\n",
    "    @classmethod\n",
    "    def __subclasshook__(cls, C):\n",
    "        if cls is Iterable:\n",
    "            return _check_methods(C, \"__iter__\")\n",
    "        return NotImplemented\n",
    "\n",
    "class Iterator(Iterable):\n",
    "\n",
    "    __slots__ = ()\n",
    "\n",
    "    @abstractmethod\n",
    "    def __next__(self):\n",
    "        'Return the next item from the iterator. When exhausted, raise StopIteration'\n",
    "        raise StopIteration\n",
    "\n",
    "    def __iter__(self):\n",
    "        return self\n",
    "\n",
    "    @classmethod\n",
    "    def __subclasshook__(cls, C):\n",
    "        if cls is Iterator:\n",
    "            return _check_methods(C, '__iter__', '__next__')\n",
    "        return NotImplemented\n",
    "```\n",
    "读源码的好处来了==>**`抽象方法：@abstractmethod（子类必须实现）`，上次漏讲了吧～**\n",
    "\n",
    "上面说**迭代器肯定可以迭代**，说很抽象，代码太直观了 (继承)：**`class Iterator(Iterable)`**\n",
    "\n",
    "现在我们来模仿并实现一个`Python`版本的`迭代器`："
   ]
  },
  {
   "cell_type": "code",
   "execution_count": 9,
   "metadata": {
    "scrolled": false
   },
   "outputs": [
    {
     "name": "stdout",
     "output_type": "stream",
     "text": [
      "CPU times: user 4 µs, sys: 0 ns, total: 4 µs\n",
      "Wall time: 7.15 µs\n",
      "True\n",
      "True\n",
      "True\n"
     ]
    }
   ],
   "source": [
    "% time\n",
    "\n",
    "# 先搭个空架子\n",
    "class MyIterator(Iterator):\n",
    "    def __next__(self):\n",
    "        pass\n",
    "\n",
    "class MyArray(Iterable):\n",
    "    def __iter__(self):\n",
    "        return MyIterator() # 返回一个迭代器\n",
    "\n",
    "def main():\n",
    "    # 可迭代 True\n",
    "    print(isinstance(MyArray(), Iterable))\n",
    "    # 迭代器也是可迭代的 True\n",
    "    print(isinstance(MyIterator(), Iterable))\n",
    "    # 是迭代器 True\n",
    "    print(isinstance(MyIterator(), Iterator))\n",
    "\n",
    "if __name__ == '__main__':\n",
    "    main()"
   ]
  },
  {
   "cell_type": "code",
   "execution_count": 10,
   "metadata": {},
   "outputs": [
    {
     "name": "stdout",
     "output_type": "stream",
     "text": [
      "CPU times: user 2 µs, sys: 1 µs, total: 3 µs\n",
      "Wall time: 5.48 µs\n",
      "True\n",
      "True\n"
     ]
    }
   ],
   "source": [
    "% time\n",
    "\n",
    "# 把迭代器简化合并\n",
    "class MyIterator(Iterator):\n",
    "    def __next__(self):\n",
    "        pass\n",
    "\n",
    "    def __iter__(self):\n",
    "        return self # 返回一个迭代器(现在就是它自己了)\n",
    "\n",
    "def main():\n",
    "    print(isinstance(MyIterator(), Iterable))\n",
    "    print(isinstance(MyIterator(), Iterator))\n",
    "\n",
    "if __name__ == '__main__':\n",
    "    main()"
   ]
  },
  {
   "cell_type": "code",
   "execution_count": 11,
   "metadata": {
    "scrolled": true
   },
   "outputs": [
    {
     "name": "stdout",
     "output_type": "stream",
     "text": [
      "CPU times: user 5 µs, sys: 1 µs, total: 6 µs\n",
      "Wall time: 13.1 µs\n",
      "1\n",
      "1\n",
      "2\n",
      "3\n",
      "5\n",
      "8\n",
      "13\n",
      "21\n",
      "34\n",
      "55\n"
     ]
    }
   ],
   "source": [
    "% time\n",
    "\n",
    "# 马上进入正题了，先回顾一下Fibona\n",
    "def fibona(n):\n",
    "    a, b = 0, 1\n",
    "    for i in range(n):\n",
    "        a, b = b, a+b\n",
    "        print(a)\n",
    "\n",
    "# 获取10个斐波拉契数列\n",
    "fibona(10)"
   ]
  },
  {
   "cell_type": "code",
   "execution_count": 12,
   "metadata": {},
   "outputs": [
    {
     "name": "stdout",
     "output_type": "stream",
     "text": [
      "CPU times: user 3 µs, sys: 0 ns, total: 3 µs\n",
      "Wall time: 7.87 µs\n",
      "<__main__.FibonaIterator object at 0x7fc00d76b9e8>\n",
      "1\n",
      "1\n",
      "2\n",
      "3\n",
      "5\n",
      "8\n",
      "13\n",
      "21\n",
      "34\n",
      "55\n"
     ]
    }
   ],
   "source": [
    "% time\n",
    "\n",
    "# 改造成迭代器\n",
    "from collections.abc import Iterable, Iterator\n",
    "\n",
    "class FibonaIterator(Iterator):\n",
    "    def __init__(self, n):\n",
    "        self.__a = 0\n",
    "        self.__b = 1\n",
    "        self.__n = n  # 获取多少个\n",
    "        self.__index = 0  # 当前索引\n",
    "\n",
    "    def __next__(self):\n",
    "        if self.__index < self.__n:\n",
    "            self.__index += 1\n",
    "            # 生成下一波\n",
    "            self.__a, self.__b = self.__b, self.__a + self.__b\n",
    "            return self.__a\n",
    "        else:\n",
    "            raise StopIteration # for循环结束条件\n",
    "\n",
    "def main():\n",
    "    print(FibonaIterator(10))\n",
    "    for i in FibonaIterator(10):\n",
    "        print(i)\n",
    "\n",
    "if __name__ == \"__main__\":\n",
    "    main()"
   ]
  },
  {
   "cell_type": "markdown",
   "metadata": {},
   "source": [
    "### 3.生成器\n",
    "\n",
    "往期文章：<a href=\"https://www.cnblogs.com/dotnetcrazy/p/9278573.html#5.Python生成器\" target=\"_blank\">https://www.cnblogs.com/dotnetcrazy/p/9278573.html#5.Python生成器</a>\n",
    "\n",
    "生成器是啥？看源码就秒懂了：(**迭代器的基础上再封装**)\n",
    "```py\n",
    "class Generator(Iterator):\n",
    "    __slots__ = ()\n",
    "\n",
    "    def __next__(self):\n",
    "        \"\"\"从生成器返回下一个item，结束的时候抛出 StopIteration\"\"\"\n",
    "        return self.send(None)\n",
    "\n",
    "    @abstractmethod\n",
    "    def send(self, value):\n",
    "        \"\"\"将值发送到生成器。返回下一个产生的值或抛出StopIteration\"\"\"\n",
    "        raise StopIteration\n",
    "\n",
    "    @abstractmethod\n",
    "    def throw(self, typ, val=None, tb=None):\n",
    "        \"\"\"在生成器中引发异常。返回下一个产生的值或抛出StopIteration\"\"\"\n",
    "        if val is None:\n",
    "            if tb is None:\n",
    "                raise typ\n",
    "            val = typ()\n",
    "        if tb is not None:\n",
    "            val = val.with_traceback(tb)\n",
    "        raise val\n",
    "\n",
    "    # 现在知道之前close后为啥没异常了吧～\n",
    "    def close(self):\n",
    "        \"\"\"屏蔽异常\"\"\"\n",
    "        try:\n",
    "            self.throw(GeneratorExit)\n",
    "        except (GeneratorExit, StopIteration):\n",
    "            pass\n",
    "        else:\n",
    "            raise RuntimeError(\"generator ignored GeneratorExit\")\n",
    "\n",
    "    @classmethod\n",
    "    def __subclasshook__(cls, C):\n",
    "        if cls is Generator:\n",
    "            return _check_methods(C, '__iter__', '__next__',\n",
    "                                  'send', 'throw', 'close')\n",
    "        return NotImplemented\n",
    "```\n",
    "迭代器的基础上再封装了两个抽象方法`send`、`throw`和屏蔽异常的方法`close`\n",
    "\n",
    "现在用生成器的方式改写下斐波拉契数列：（列表推导式改成小括号是最简单的一种生成器）"
   ]
  },
  {
   "cell_type": "code",
   "execution_count": 13,
   "metadata": {},
   "outputs": [
    {
     "name": "stdout",
     "output_type": "stream",
     "text": [
      "CPU times: user 5 µs, sys: 0 ns, total: 5 µs\n",
      "Wall time: 10.7 µs\n",
      "<generator object fibona at 0x7fc00d75e480>\n",
      "1\n",
      "1\n",
      "2\n",
      "3\n",
      "5\n",
      "8\n",
      "13\n",
      "21\n",
      "34\n",
      "55\n"
     ]
    }
   ],
   "source": [
    "% time\n",
    "\n",
    "# 代码瞬间就简洁了\n",
    "def fibona(n):\n",
    "    a = 0\n",
    "    b = 1\n",
    "    for _ in range(n):\n",
    "        a, b = b, a + b\n",
    "        yield a # 加个yiel就变成生成器了\n",
    "\n",
    "def main():\n",
    "    print(fibona(10))\n",
    "    for i in fibona(10):\n",
    "        print(i)\n",
    "\n",
    "if __name__ == \"__main__\":\n",
    "    main()"
   ]
  },
  {
   "cell_type": "markdown",
   "metadata": {},
   "source": [
    "注意下这几点：\n",
    "1. <a herf=\"https://www.cnblogs.com/dotnetcrazy/p/9278573.html#5.3.扩展之～send(msg)方法：\" target=\"_blank\">generator刚启动的时候，要么 next()，要么 send(None)，不然会引发：</a>\n",
    "    - `TypeError: can't send non-None value to a just-started generator`\n",
    "2. <a herf=\"https://www.cnblogs.com/dotnetcrazy/p/9278573.html#5.4.扩展之～return和break的说明\" target=\"_blank\">在一个generator函数中，遇到return或者break则直接抛出StopIteration终止迭代</a>\n",
    "    - 如果没有则默认执行至函数完毕\n",
    "3. 如果想要拿到返回值，必须捕获`StopIteration`错误，返回值包含在`StopIteration`的`value`中\n",
    "\n",
    "```py\n",
    "def test_send(n):\n",
    "    for i in range(n):\n",
    "        if i==2:\n",
    "            return \"i==2\"\n",
    "        yield i\n",
    "\n",
    "g = test_send(5)\n",
    "\n",
    "while True:\n",
    "    try:\n",
    "        tmp = next(g)\n",
    "        print(tmp)\n",
    "    except StopIteration as ex:\n",
    "        print(ex.value)\n",
    "        break\n",
    "```\n",
    "输出：\n",
    "```\n",
    "0\n",
    "1\n",
    "i==2\n",
    "```\n",
    "\n",
    "其他的也没什么好说的了，读完源码再看看之前讲的内容`别有一番滋味在心头`哦～"
   ]
  },
  {
   "cell_type": "markdown",
   "metadata": {},
   "source": [
    "## 3.2.协程引入\n",
    "\n",
    "### 1.yield版协程\n",
    "\n",
    "\n",
    "\n",
    "### 2.gevent版协程\n"
   ]
  },
  {
   "cell_type": "markdown",
   "metadata": {},
   "source": [
    "# 3.并行篇"
   ]
  }
 ],
 "metadata": {
  "kernelspec": {
   "display_name": "Python 3",
   "language": "python",
   "name": "python3"
  },
  "language_info": {
   "codemirror_mode": {
    "name": "ipython",
    "version": 3
   },
   "file_extension": ".py",
   "mimetype": "text/x-python",
   "name": "python",
   "nbconvert_exporter": "python",
   "pygments_lexer": "ipython3",
   "version": "3.7.0"
  }
 },
 "nbformat": 4,
 "nbformat_minor": 2
}
