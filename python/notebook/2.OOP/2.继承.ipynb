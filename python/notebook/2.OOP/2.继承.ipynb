{
 "cells": [
  {
   "cell_type": "markdown",
   "metadata": {},
   "source": [
    "## 2.继承\n",
    "\n",
    "### 2.1.单继承\n",
    "在OOP中，当我们定义一个Class的时候，可以从某个现有的Class继承\n",
    "\n",
    "新的Class称为子类，而被继承的class称为 基类 或者 父类\n",
    "\n",
    "Python的继承格式 ==> **xxx(base_class)**\n",
    "\n",
    "小明兴高采烈的听着老师开新课，不一会就看见了一个演示Demo："
   ]
  },
  {
   "cell_type": "code",
   "execution_count": 1,
   "metadata": {},
   "outputs": [
    {
     "name": "stdout",
     "output_type": "stream",
     "text": [
      "动物会吃\n",
      "动物会吃\n"
     ]
    }
   ],
   "source": [
    "class Animal(object):\n",
    "    def eat(self):\n",
    "        print(\"动物会吃\")\n",
    "\n",
    "class Cat(Animal):\n",
    "    # 注意一下Python的继承格式\n",
    "    pass\n",
    "\n",
    "class Dog(Animal):\n",
    "    pass\n",
    "\n",
    "def main():\n",
    "    cat = Cat()\n",
    "    dog = Dog()\n",
    "    cat.eat()\n",
    "    dog.eat()\n",
    "\n",
    "if __name__ == \"__main__\":\n",
    "    main()"
   ]
  },
  {
   "cell_type": "markdown",
   "metadata": {},
   "source": [
    "---\n",
    "当听到老师说：“**私有**的属性方法 **不会被子类继承** ”的时候，小明心里一颤，联想到之前讲的 **类属性**、**实例属性**、**实例方法**、**类方法**、**静态方法**，于是赶紧写个Demo验证一下："
   ]
  },
  {
   "cell_type": "code",
   "execution_count": 2,
   "metadata": {},
   "outputs": [
    {
     "name": "stdout",
     "output_type": "stream",
     "text": [
      "1\n",
      "我是实例方法，动物会吃哦～\n",
      "动物\n",
      "我是类方法，动物会叫哦\n",
      "我是类方法，动物会叫哦\n",
      "我是类方法，动物会叫哦\n",
      "我是静态方法，动物会玩耍哦\n",
      "我是静态方法，动物会玩耍哦\n",
      "我是静态方法，动物会玩耍哦\n"
     ]
    }
   ],
   "source": [
    "class Animal(object):\n",
    "    # 类属性\n",
    "    name = '动物'\n",
    "\n",
    "    def __init__(self):\n",
    "        # 实例属性\n",
    "        self.age = 1\n",
    "\n",
    "    def __bug(self):\n",
    "        \"\"\"实例私有方法\"\"\"\n",
    "        print(\"我是动物类身上的私有方法：bug\")\n",
    "\n",
    "    def eat(self):\n",
    "        \"\"\"实例方法\"\"\"\n",
    "        print(\"我是实例方法，动物会吃哦～\")\n",
    "\n",
    "    @classmethod\n",
    "    def call(cls):\n",
    "        \"\"\"类方法\"\"\"\n",
    "        print(\"我是类方法，动物会叫哦\")\n",
    "\n",
    "    @staticmethod\n",
    "    def play():\n",
    "        \"\"\"静态方法\"\"\"\n",
    "        print(\"我是静态方法，动物会玩耍哦\")\n",
    "\n",
    "\n",
    "class Dog(Animal):\n",
    "    pass\n",
    "\n",
    "\n",
    "def main():\n",
    "    dog = Dog()\n",
    "    # 实例属性\n",
    "    print(dog.age)\n",
    "    # 实例方法\n",
    "    dog.eat()\n",
    "\n",
    "    # 类属性\n",
    "    print(dog.name)\n",
    "    # 类方法\n",
    "    dog.call()\n",
    "    Dog.call()\n",
    "    Animal.call()\n",
    "\n",
    "    # 静态方法\n",
    "    dog.play()\n",
    "    Dog.play()\n",
    "    Animal.play()\n",
    "\n",
    "\n",
    "if __name__ == '__main__':\n",
    "    main()"
   ]
  },
  {
   "cell_type": "markdown",
   "metadata": {},
   "source": [
    "来张图就懂了，不是 **私有的** 都能访问：\n",
    "\n",
    "![一张图就懂了](https://images2018.cnblogs.com/blog/1127869/201806/1127869-20180621124912490-1604470767.png)\n",
    "\n",
    "这时候，小明老高兴了，单回头一想 ==> 不科学啊，dog应该有其对应的方法吧，C#有**虚方法**重写，Python怎么搞？在**子类**里面又**怎么调用父类方法**呢？\n",
    "\n",
    "对于小明的提示老师很高兴，于是点名小潘来写一个子类调用父类的demo（老师昨天从窗户里看见小潘有预习）："
   ]
  },
  {
   "cell_type": "code",
   "execution_count": null,
   "metadata": {},
   "outputs": [],
   "source": []
  },
  {
   "cell_type": "code",
   "execution_count": null,
   "metadata": {},
   "outputs": [],
   "source": []
  },
  {
   "cell_type": "code",
   "execution_count": null,
   "metadata": {},
   "outputs": [],
   "source": []
  },
  {
   "cell_type": "code",
   "execution_count": null,
   "metadata": {},
   "outputs": [],
   "source": []
  },
  {
   "cell_type": "code",
   "execution_count": null,
   "metadata": {},
   "outputs": [],
   "source": []
  },
  {
   "cell_type": "code",
   "execution_count": null,
   "metadata": {},
   "outputs": [],
   "source": []
  },
  {
   "cell_type": "code",
   "execution_count": null,
   "metadata": {},
   "outputs": [],
   "source": []
  },
  {
   "cell_type": "code",
   "execution_count": null,
   "metadata": {},
   "outputs": [],
   "source": []
  },
  {
   "cell_type": "code",
   "execution_count": null,
   "metadata": {},
   "outputs": [],
   "source": []
  },
  {
   "cell_type": "code",
   "execution_count": null,
   "metadata": {},
   "outputs": [],
   "source": []
  },
  {
   "cell_type": "code",
   "execution_count": null,
   "metadata": {},
   "outputs": [],
   "source": []
  },
  {
   "cell_type": "code",
   "execution_count": null,
   "metadata": {},
   "outputs": [],
   "source": []
  },
  {
   "cell_type": "code",
   "execution_count": null,
   "metadata": {},
   "outputs": [],
   "source": []
  },
  {
   "cell_type": "code",
   "execution_count": null,
   "metadata": {},
   "outputs": [],
   "source": []
  },
  {
   "cell_type": "code",
   "execution_count": null,
   "metadata": {},
   "outputs": [],
   "source": []
  },
  {
   "cell_type": "code",
   "execution_count": null,
   "metadata": {},
   "outputs": [],
   "source": []
  },
  {
   "cell_type": "code",
   "execution_count": null,
   "metadata": {},
   "outputs": [],
   "source": []
  },
  {
   "cell_type": "code",
   "execution_count": null,
   "metadata": {},
   "outputs": [],
   "source": []
  },
  {
   "cell_type": "code",
   "execution_count": null,
   "metadata": {},
   "outputs": [],
   "source": []
  },
  {
   "cell_type": "code",
   "execution_count": null,
   "metadata": {},
   "outputs": [],
   "source": []
  },
  {
   "cell_type": "code",
   "execution_count": null,
   "metadata": {},
   "outputs": [],
   "source": []
  },
  {
   "cell_type": "code",
   "execution_count": null,
   "metadata": {},
   "outputs": [],
   "source": []
  },
  {
   "cell_type": "code",
   "execution_count": null,
   "metadata": {},
   "outputs": [],
   "source": []
  },
  {
   "cell_type": "code",
   "execution_count": null,
   "metadata": {},
   "outputs": [],
   "source": []
  },
  {
   "cell_type": "code",
   "execution_count": null,
   "metadata": {},
   "outputs": [],
   "source": []
  },
  {
   "cell_type": "code",
   "execution_count": null,
   "metadata": {},
   "outputs": [],
   "source": []
  },
  {
   "cell_type": "code",
   "execution_count": null,
   "metadata": {},
   "outputs": [],
   "source": []
  },
  {
   "cell_type": "code",
   "execution_count": null,
   "metadata": {},
   "outputs": [],
   "source": []
  },
  {
   "cell_type": "code",
   "execution_count": null,
   "metadata": {},
   "outputs": [],
   "source": []
  },
  {
   "cell_type": "code",
   "execution_count": null,
   "metadata": {},
   "outputs": [],
   "source": []
  }
 ],
 "metadata": {
  "kernelspec": {
   "display_name": "Python 3",
   "language": "python",
   "name": "python3"
  },
  "language_info": {
   "codemirror_mode": {
    "name": "ipython",
    "version": 3
   },
   "file_extension": ".py",
   "mimetype": "text/x-python",
   "name": "python",
   "nbconvert_exporter": "python",
   "pygments_lexer": "ipython3",
   "version": "3.6.5"
  }
 },
 "nbformat": 4,
 "nbformat_minor": 2
}
