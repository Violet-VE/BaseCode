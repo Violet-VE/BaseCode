{
 "cells": [
  {
   "cell_type": "markdown",
   "metadata": {},
   "source": [
    "## 2.继承\n",
    "\n",
    "### 2.1.单继承\n",
    "在OOP中，当我们定义一个Class的时候，可以从某个现有的Class继承\n",
    "\n",
    "新的Class称为子类，而被继承的class称为 基类 或者 父类\n",
    "\n",
    "Python的继承格式 ==> **xxx(base_class)**\n",
    "\n",
    "小明兴高采烈的听着老师开新课，不一会就看见了一个演示Demo："
   ]
  },
  {
   "cell_type": "code",
   "execution_count": 1,
   "metadata": {},
   "outputs": [
    {
     "name": "stdout",
     "output_type": "stream",
     "text": [
      "动物会吃\n",
      "动物会吃\n"
     ]
    }
   ],
   "source": [
    "class Animal(object):\n",
    "    def eat(self):\n",
    "        print(\"动物会吃\")\n",
    "\n",
    "class Cat(Animal):\n",
    "    # 注意一下Python的继承格式\n",
    "    pass\n",
    "\n",
    "class Dog(Animal):\n",
    "    pass\n",
    "\n",
    "def main():\n",
    "    cat = Cat()\n",
    "    dog = Dog()\n",
    "    cat.eat()\n",
    "    dog.eat()\n",
    "\n",
    "if __name__ == \"__main__\":\n",
    "    main()"
   ]
  },
  {
   "cell_type": "markdown",
   "metadata": {},
   "source": [
    "当听到老师说：“**私有**的属性方法 **不会被子类继承** ”的时候，小明心里一颤，联想到之前讲的 **类属性**、**实例属性**、**实例方法**、**类方法**、**静态方法**，于是赶紧写个Demo验证一下："
   ]
  },
  {
   "cell_type": "code",
   "execution_count": 2,
   "metadata": {},
   "outputs": [
    {
     "name": "stdout",
     "output_type": "stream",
     "text": [
      "1\n",
      "我是实例方法，动物会吃哦～\n",
      "动物\n",
      "我是类方法，动物会叫哦\n",
      "我是类方法，动物会叫哦\n",
      "我是类方法，动物会叫哦\n",
      "我是静态方法，动物会玩耍哦\n",
      "我是静态方法，动物会玩耍哦\n",
      "我是静态方法，动物会玩耍哦\n"
     ]
    }
   ],
   "source": [
    "class Animal(object):\n",
    "    # 类属性\n",
    "    name = '动物'\n",
    "\n",
    "    def __init__(self):\n",
    "        # 实例属性\n",
    "        self.age = 1\n",
    "\n",
    "    def __bug(self):\n",
    "        \"\"\"实例私有方法\"\"\"\n",
    "        print(\"我是动物类身上的私有方法：bug\")\n",
    "\n",
    "    def eat(self):\n",
    "        \"\"\"实例方法\"\"\"\n",
    "        print(\"我是实例方法，动物会吃哦～\")\n",
    "\n",
    "    @classmethod\n",
    "    def call(cls):\n",
    "        \"\"\"类方法\"\"\"\n",
    "        print(\"我是类方法，动物会叫哦\")\n",
    "\n",
    "    @staticmethod\n",
    "    def play():\n",
    "        \"\"\"静态方法\"\"\"\n",
    "        print(\"我是静态方法，动物会玩耍哦\")\n",
    "\n",
    "\n",
    "class Dog(Animal):\n",
    "    pass\n",
    "\n",
    "\n",
    "def main():\n",
    "    dog = Dog()\n",
    "    # 实例属性\n",
    "    print(dog.age)\n",
    "    # 实例方法\n",
    "    dog.eat()\n",
    "\n",
    "    # 类属性\n",
    "    print(dog.name)\n",
    "    # 类方法\n",
    "    dog.call()\n",
    "    Dog.call()\n",
    "    Animal.call()\n",
    "\n",
    "    # 静态方法\n",
    "    dog.play()\n",
    "    Dog.play()\n",
    "    Animal.play()\n",
    "\n",
    "\n",
    "if __name__ == '__main__':\n",
    "    main()"
   ]
  },
  {
   "cell_type": "markdown",
   "metadata": {},
   "source": [
    "来张图就懂了，不是 **私有的** 都能访问：\n",
    "\n",
    "![一张图就懂了](https://images2018.cnblogs.com/blog/1127869/201806/1127869-20180621124912490-1604470767.png)\n",
    "\n",
    "这时候，小明老高兴了，单回头一想 ==> 不科学啊，dog应该有其对应的方法吧，C#有**虚方法**重写，Python怎么搞？在**子类**里面又**怎么调用父类方法**呢？\n",
    "\n",
    "对于小明的提示老师很高兴，于是点名小潘来写一个子类调用父类的demo（老师昨天从窗户里看见小潘有预习）："
   ]
  },
  {
   "cell_type": "code",
   "execution_count": 3,
   "metadata": {},
   "outputs": [
    {
     "name": "stdout",
     "output_type": "stream",
     "text": [
      "文雅的吃饭\n",
      "文雅的吃饭\n"
     ]
    }
   ],
   "source": [
    "# 调用父类的方法\n",
    "class Father(object):\n",
    "    def eat(self):\n",
    "        print(\"文雅的吃饭\")\n",
    "\n",
    "\n",
    "class Son(Father):\n",
    "    def eat(self):\n",
    "        # 调用父类方法第1种（super().方法）\n",
    "        super().eat()\n",
    "\n",
    "\n",
    "class GrandSon(Son):\n",
    "    def eat(self):\n",
    "        # 调用父类方法第2种（记得传self）\n",
    "        Son.eat(self)\n",
    "\n",
    "\n",
    "def main():\n",
    "    xiaoming = Son()\n",
    "    xiaoming.eat()\n",
    "\n",
    "    xiaoli = GrandSon()\n",
    "    xiaoli.eat()\n",
    "\n",
    "\n",
    "if __name__ == '__main__':\n",
    "    main()"
   ]
  },
  {
   "cell_type": "markdown",
   "metadata": {},
   "source": [
    "一般我们使用`super().方法`来调用父类方法\n",
    "\n",
    "第二种方法`类名.方法(self)`千万别忘记传self哦\n",
    "\n",
    "对了，C#是用base关键词，别搞混了\n",
    "\n",
    "小明这时候可不高兴了，风头怎么能被小潘全部抢走呢，赶紧问问旁边同样预习的伟哥\n",
    "\n",
    "不一会儿淡定的发了份重写父类方法的demo给老师："
   ]
  },
  {
   "cell_type": "code",
   "execution_count": 4,
   "metadata": {},
   "outputs": [
    {
     "name": "stdout",
     "output_type": "stream",
     "text": [
      "小明喜欢文雅的吃饭\n",
      "小潘喜欢大口吃饭大口喝酒\n"
     ]
    }
   ],
   "source": [
    "# 重写父类方法==>子类和父类有同名方法\n",
    "class Father(object):\n",
    "    def __init__(self, name):\n",
    "        self.name = name\n",
    "\n",
    "    def eat(self):\n",
    "        print(\"%s喜欢文雅的吃饭\" % self.name)\n",
    "\n",
    "\n",
    "class Son(Father):\n",
    "    def __init__(self, name):\n",
    "        super().__init__(name)\n",
    "\n",
    "    def eat(self):\n",
    "        print(\"%s喜欢大口吃饭大口喝酒\" % self.name)\n",
    "\n",
    "\n",
    "def main():\n",
    "    xiaoming = Father(\"小明\")\n",
    "    xiaoming.eat()\n",
    "\n",
    "    xiaopan = Son(\"小潘\")\n",
    "    xiaopan.eat()\n",
    "\n",
    "\n",
    "if __name__ == \"__main__\":\n",
    "    main()"
   ]
  },
  {
   "cell_type": "markdown",
   "metadata": {},
   "source": [
    "老师半喜半忧的说道：“小明同学啊，你也老大不小了，怎么跟孩子一样啊？案例不错，但是怎么能人身攻击人家小潘了？”\n",
    "\n",
    "当子类和父类都存在相同的`eat()`方法时，我们说，子类的`eat()`覆盖了父类的`eat()`\n",
    "\n",
    "在代码运行的时候，总是会调用子类的`eat()` 这样，我们就获得了继承的另一个好处：**多态**\n",
    "\n",
    "在讲`多态`之前，我们先引入一下Python的 **多继承** 对，你没有听错\n",
    "\n",
    "Java、C#都是单继承，多实现。Python和C++一样，可以多继承，先不要吐槽，**规范使用**其实很方便的\n",
    "\n",
    "来个案例看看："
   ]
  },
  {
   "cell_type": "code",
   "execution_count": 5,
   "metadata": {},
   "outputs": [
    {
     "name": "stdout",
     "output_type": "stream",
     "text": [
      "文雅的吃饭\n",
      "小碎步\n"
     ]
    }
   ],
   "source": [
    "# 多继承引入\n",
    "class Father(object):\n",
    "    def eat(self):\n",
    "        print(\"文雅的吃饭\")\n",
    "\n",
    "\n",
    "class Mom(object):\n",
    "    def run(self):\n",
    "        print(\"小碎步\")\n",
    "\n",
    "\n",
    "class Son(Father, Mom):\n",
    "    pass\n",
    "\n",
    "\n",
    "def main():\n",
    "    son = Son()\n",
    "    son.eat()\n",
    "    son.run()\n",
    "\n",
    "\n",
    "if __name__ == '__main__':\n",
    "    main()\n"
   ]
  },
  {
   "cell_type": "markdown",
   "metadata": {},
   "source": [
    "继承可以把父类的所有功能都直接拿过来，这样就不必重0开始写代码，子类只需要新增自己特有的方法，也可以把父类不适合的方法覆盖重写\n",
    "\n",
    "注意一个情况，如果父类里面有同名方法咋办了？到底调哪个呢？\n",
    "\n",
    "使用`子类名.__mro__`可以看在调方法的时候搜索顺序\n",
    "\n",
    "一般同名方法都是 **先看自己**有没有，然后看继承顺序，比如这边 **先看Mom再看Father**"
   ]
  },
  {
   "cell_type": "code",
   "execution_count": 6,
   "metadata": {},
   "outputs": [
    {
     "name": "stdout",
     "output_type": "stream",
     "text": [
      "开心的吃饭\n",
      "(<class '__main__.Son'>, <class '__main__.Mom'>, <class '__main__.Father'>, <class 'object'>)\n"
     ]
    }
   ],
   "source": [
    "# 如果父类里面有同名方法怎么知道调哪个？\n",
    "class Father(object):\n",
    "    def eat(self):\n",
    "        print(\"文雅的吃饭\")\n",
    "\n",
    "\n",
    "class Mom(object):\n",
    "    def eat(self):\n",
    "        print(\"开心的吃饭\")\n",
    "\n",
    "\n",
    "class Son(Mom, Father):\n",
    "    pass\n",
    "\n",
    "\n",
    "def main():\n",
    "    son = Son()\n",
    "    son.eat()\n",
    "    print(Son.__mro__)  # 一般同名方法都是先看自己有没有，然后看继承顺序，比如这边先看Mom再看Father\n",
    "\n",
    "\n",
    "if __name__ == '__main__':\n",
    "    main()\n"
   ]
  },
  {
   "cell_type": "markdown",
   "metadata": {},
   "source": [
    "Python的多继承最好是当C#或者Java里面的接口使用，这样结构不会混乱(**特殊情况除外**)\n",
    "\n",
    "来个例子：\n",
    "```py\n",
    "class Animal(object):\n",
    "    pass\n",
    "\n",
    "class Flyable(object):\n",
    "    \"\"\"飞的方法\"\"\"\n",
    "    pass\n",
    "\n",
    "class Runable(object):\n",
    "    \"\"\"跑的方法\"\"\"\n",
    "    pass\n",
    "\n",
    "class Dog(Animal, Runable):\n",
    "    pass\n",
    "\n",
    "class Cat(Animal, Runable):\n",
    "    pass\n",
    "\n",
    "class Bird(Animal, Flyable):\n",
    "    pass\n",
    "\n",
    "class Dack(Animal, Runable, Flyable):\n",
    "    \"\"\"鸭子会飞也会跑\"\"\"\n",
    "    pass\n",
    "```\n",
    "---\n",
    "\n",
    "### 2.2 多态\n",
    "\n",
    "说多态之前说说类型判断，以前我们用`type()` or `isinstance()`\n",
    "\n",
    "**判断一个变量和另一个变量是否是同一个类型**==> `type(a)==type(b)`\n",
    "\n",
    "**判断一个变量是否是某个类型**==> `type(a)==A` or `isinstance(a,A)`\n"
   ]
  },
  {
   "cell_type": "code",
   "execution_count": 7,
   "metadata": {},
   "outputs": [
    {
     "name": "stdout",
     "output_type": "stream",
     "text": [
      "True\n",
      "True\n",
      "<class '__main__.Dog'>\n",
      "True\n",
      "True\n"
     ]
    }
   ],
   "source": [
    "# 判断一个变量是否是某个类型 ==> isinstance() or type\n",
    "class Animal(object):\n",
    "    pass\n",
    "\n",
    "\n",
    "class Dog(Animal):\n",
    "    pass\n",
    "\n",
    "\n",
    "def main():\n",
    "    dog = Dog()\n",
    "    dog2 = Dog()\n",
    "    print(type(dog) == Dog)\n",
    "    print(type(dog) == type(dog2))\n",
    "    print(type(dog))\n",
    "\n",
    "    print(isinstance(dog, Dog))\n",
    "    print(isinstance(dog, Animal))\n",
    "    # arg 2 must be a type or tuple\n",
    "    # print(isinstance(dog, dog2))\n",
    "\n",
    "\n",
    "if __name__ == '__main__':\n",
    "    main()\n"
   ]
  },
  {
   "cell_type": "code",
   "execution_count": null,
   "metadata": {},
   "outputs": [],
   "source": []
  },
  {
   "cell_type": "code",
   "execution_count": null,
   "metadata": {},
   "outputs": [],
   "source": []
  },
  {
   "cell_type": "code",
   "execution_count": null,
   "metadata": {},
   "outputs": [],
   "source": []
  },
  {
   "cell_type": "code",
   "execution_count": null,
   "metadata": {},
   "outputs": [],
   "source": []
  },
  {
   "cell_type": "code",
   "execution_count": null,
   "metadata": {},
   "outputs": [],
   "source": []
  },
  {
   "cell_type": "code",
   "execution_count": null,
   "metadata": {},
   "outputs": [],
   "source": []
  },
  {
   "cell_type": "code",
   "execution_count": null,
   "metadata": {},
   "outputs": [],
   "source": []
  },
  {
   "cell_type": "code",
   "execution_count": null,
   "metadata": {},
   "outputs": [],
   "source": []
  },
  {
   "cell_type": "code",
   "execution_count": null,
   "metadata": {},
   "outputs": [],
   "source": []
  },
  {
   "cell_type": "code",
   "execution_count": null,
   "metadata": {},
   "outputs": [],
   "source": []
  },
  {
   "cell_type": "code",
   "execution_count": null,
   "metadata": {},
   "outputs": [],
   "source": []
  },
  {
   "cell_type": "code",
   "execution_count": null,
   "metadata": {},
   "outputs": [],
   "source": []
  },
  {
   "cell_type": "code",
   "execution_count": null,
   "metadata": {},
   "outputs": [],
   "source": []
  },
  {
   "cell_type": "code",
   "execution_count": null,
   "metadata": {},
   "outputs": [],
   "source": []
  },
  {
   "cell_type": "code",
   "execution_count": null,
   "metadata": {},
   "outputs": [],
   "source": []
  },
  {
   "cell_type": "code",
   "execution_count": null,
   "metadata": {},
   "outputs": [],
   "source": []
  },
  {
   "cell_type": "code",
   "execution_count": null,
   "metadata": {},
   "outputs": [],
   "source": []
  },
  {
   "cell_type": "code",
   "execution_count": null,
   "metadata": {},
   "outputs": [],
   "source": []
  },
  {
   "cell_type": "code",
   "execution_count": null,
   "metadata": {},
   "outputs": [],
   "source": []
  },
  {
   "cell_type": "code",
   "execution_count": null,
   "metadata": {},
   "outputs": [],
   "source": []
  },
  {
   "cell_type": "code",
   "execution_count": null,
   "metadata": {},
   "outputs": [],
   "source": []
  }
 ],
 "metadata": {
  "kernelspec": {
   "display_name": "Python 3",
   "language": "python",
   "name": "python3"
  },
  "language_info": {
   "codemirror_mode": {
    "name": "ipython",
    "version": 3
   },
   "file_extension": ".py",
   "mimetype": "text/x-python",
   "name": "python",
   "nbconvert_exporter": "python",
   "pygments_lexer": "ipython3",
   "version": "3.6.5"
  }
 },
 "nbformat": 4,
 "nbformat_minor": 2
}
