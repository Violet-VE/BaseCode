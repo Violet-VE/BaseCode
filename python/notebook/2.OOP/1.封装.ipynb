{
 "cells": [
  {
   "cell_type": "markdown",
   "metadata": {},
   "source": [
    "这次尽量用故事模式来讲知识\n",
    "\n",
    "## 1.定义一个类\n",
    "类的组成：类名、属性（没有字段）、方法\n",
    "### 1.1创建一个类"
   ]
  },
  {
   "cell_type": "code",
   "execution_count": 1,
   "metadata": {},
   "outputs": [],
   "source": [
    "# 类名首字母大写\n",
    "class Student(object):\n",
    "    \"\"\"创建一个学生类\"\"\"\n",
    "    # 没有属性定义，直接使用即可\n",
    "    # 定义一个方法，方法里面必须有self（相当于C#的this）\n",
    "    def show(self):\n",
    "        print(\"name:%s age:%d\"%(self.name,self.age))"
   ]
  },
  {
   "cell_type": "code",
   "execution_count": 2,
   "metadata": {},
   "outputs": [
    {
     "name": "stdout",
     "output_type": "stream",
     "text": [
      "name:张三 age:22\n"
     ]
    }
   ],
   "source": [
    "# 实例化一个张三\n",
    "zhangsan=Student()\n",
    "# 给name，age属性赋值\n",
    "zhangsan.name=\"张三\"\n",
    "zhangsan.age=22\n",
    "# 调用show方法\n",
    "zhangsan.show()"
   ]
  },
  {
   "cell_type": "code",
   "execution_count": 3,
   "metadata": {},
   "outputs": [
    {
     "name": "stdout",
     "output_type": "stream",
     "text": [
      "<class '__main__.Student'>\n",
      "<__main__.Student object at 0x7fe961195b70>\n"
     ]
    }
   ],
   "source": [
    "# 打印一下类和类的实例\n",
    "print(Student)\n",
    "print(zhangsan) #张三实例的内存地址：0x7fb6e8502d30"
   ]
  },
  {
   "cell_type": "markdown",
   "metadata": {},
   "source": [
    "和静态语言不同，Python允许**对实例变量绑定任何数据** ==> 对于两个实例变量，**虽然它们都是同一个类的不同实例，但拥有的变量名称可能都不同**\n",
    "\n",
    "说的比较抽象，举个例子就明了了："
   ]
  },
  {
   "cell_type": "code",
   "execution_count": 4,
   "metadata": {},
   "outputs": [
    {
     "ename": "TypeError",
     "evalue": "object() takes no parameters",
     "output_type": "error",
     "traceback": [
      "\u001b[0;31m---------------------------------------------------------------------------\u001b[0m",
      "\u001b[0;31mTypeError\u001b[0m                                 Traceback (most recent call last)",
      "\u001b[0;32m<ipython-input-4-500940527165>\u001b[0m in \u001b[0;36m<module>\u001b[0;34m()\u001b[0m\n\u001b[0;32m----> 1\u001b[0;31m \u001b[0mxiaoming\u001b[0m\u001b[0;34m=\u001b[0m\u001b[0mStudent\u001b[0m\u001b[0;34m(\u001b[0m\u001b[0;34m\"小明\"\u001b[0m\u001b[0;34m,\u001b[0m\u001b[0;36m22\u001b[0m\u001b[0;34m)\u001b[0m\u001b[0;34m\u001b[0m\u001b[0m\n\u001b[0m\u001b[1;32m      2\u001b[0m \u001b[0mxiaoming\u001b[0m\u001b[0;34m.\u001b[0m\u001b[0mmmd\u001b[0m\u001b[0;34m=\u001b[0m\u001b[0;34m\"mmd\"\u001b[0m\u001b[0;34m\u001b[0m\u001b[0m\n\u001b[1;32m      3\u001b[0m \u001b[0mprint\u001b[0m\u001b[0;34m(\u001b[0m\u001b[0mxiaoming\u001b[0m\u001b[0;34m.\u001b[0m\u001b[0mmmd\u001b[0m\u001b[0;34m)\u001b[0m\u001b[0;34m\u001b[0m\u001b[0m\n\u001b[1;32m      4\u001b[0m \u001b[0;34m\u001b[0m\u001b[0m\n\u001b[1;32m      5\u001b[0m \u001b[0;31m# 小明和小潘都是Student类，但是小明有的mmd属性，小潘却没有\u001b[0m\u001b[0;34m\u001b[0m\u001b[0;34m\u001b[0m\u001b[0m\n",
      "\u001b[0;31mTypeError\u001b[0m: object() takes no parameters"
     ]
    }
   ],
   "source": [
    "xiaoming=Student(\"小明\",22)\n",
    "xiaoming.mmd=\"mmd\"\n",
    "print(xiaoming.mmd)\n",
    "\n",
    "# 小明和小潘都是Student类，但是小明有的mmd属性，小潘却没有\n",
    "xiaopan=Student(\"小潘\",22)\n",
    "print(xiaopan.mmd)"
   ]
  },
  {
   "cell_type": "markdown",
   "metadata": {},
   "source": [
    "### 1.2使用\\_\\_init\\_\\_初始化赋值\n",
    "\n",
    "创建对象后，python解释器默认调用**\\__init\\__**方法，对必要字段进行初始化赋值\n",
    "\n",
    "需要注意的是：**\\_\\_init\\_\\_**并不是C#中的构造函数，**\\_\\_new\\_\\_** （后面会说） + **\\_\\_init\\_\\_** 等价于构造函数\n",
    "\n",
    "第一个参数和类的其他方法一样，都是self（相当于C#里面的this，表示创建的实例本身）调用的时候直接忽略它"
   ]
  },
  {
   "cell_type": "code",
   "execution_count": 5,
   "metadata": {},
   "outputs": [],
   "source": [
    "class Student(object):\n",
    "    # 初始化赋值\n",
    "    def __init__(self,name,age):\n",
    "        self.name=name\n",
    "        self.age=age\n",
    "    \n",
    "    def show(self):\n",
    "        print(\"name:%s age:%d\"%(self.name,self.age))"
   ]
  },
  {
   "cell_type": "code",
   "execution_count": 6,
   "metadata": {},
   "outputs": [
    {
     "ename": "TypeError",
     "evalue": "__init__() missing 2 required positional arguments: 'name' and 'age'",
     "output_type": "error",
     "traceback": [
      "\u001b[0;31m---------------------------------------------------------------------------\u001b[0m",
      "\u001b[0;31mTypeError\u001b[0m                                 Traceback (most recent call last)",
      "\u001b[0;32m<ipython-input-6-1ba88e24910b>\u001b[0m in \u001b[0;36m<module>\u001b[0;34m()\u001b[0m\n\u001b[1;32m      1\u001b[0m \u001b[0;31m# 有了__init__方法，在创建实例的时候，就不能传入空的参数了\u001b[0m\u001b[0;34m\u001b[0m\u001b[0;34m\u001b[0m\u001b[0m\n\u001b[0;32m----> 2\u001b[0;31m \u001b[0mlisi\u001b[0m\u001b[0;34m=\u001b[0m\u001b[0mStudent\u001b[0m\u001b[0;34m(\u001b[0m\u001b[0;34m)\u001b[0m\u001b[0;34m\u001b[0m\u001b[0m\n\u001b[0m",
      "\u001b[0;31mTypeError\u001b[0m: __init__() missing 2 required positional arguments: 'name' and 'age'"
     ]
    }
   ],
   "source": [
    "# 有了__init__方法，在创建实例的时候，就不能传入空的参数了\n",
    "lisi=Student()"
   ]
  },
  {
   "cell_type": "code",
   "execution_count": 7,
   "metadata": {},
   "outputs": [
    {
     "name": "stdout",
     "output_type": "stream",
     "text": [
      "name:小王 age:22\n"
     ]
    }
   ],
   "source": [
    "# 创建一个正确的实例\n",
    "xiaowang=Student(\"小王\",22)\n",
    "xiaowang.show()"
   ]
  },
  {
   "cell_type": "markdown",
   "metadata": {},
   "source": [
    "### 1.3使用魔法方法\\__str\\__\n",
    "\n",
    "在print(类名)的时候自定义输出\n",
    "\n",
    "这个有点像C#类里面重写ToString，eg:\n",
    "```cs\n",
    "public override string ToString()\n",
    "{\n",
    "    return \"Name:\" + this.Name + \" Age:\" + this.Age;\n",
    "}\n",
    "```"
   ]
  },
  {
   "cell_type": "code",
   "execution_count": 8,
   "metadata": {},
   "outputs": [],
   "source": [
    "# Python的__str__()方法\n",
    "class Student(object):\n",
    "    def __init__(self, name, age):\n",
    "        self.name = name\n",
    "        self.age = age\n",
    "\n",
    "    # self别忘记写了\n",
    "    def __str__(self):\n",
    "        return \"姓名：%s，年龄：%s\" % (self.name, self.age)"
   ]
  },
  {
   "cell_type": "code",
   "execution_count": 9,
   "metadata": {},
   "outputs": [
    {
     "name": "stdout",
     "output_type": "stream",
     "text": [
      "姓名：李四，年龄：22\n"
     ]
    }
   ],
   "source": [
    "lisi = Student(\"李四\", 22)\n",
    "print(lisi) #现在打印就是你DIV的输出了"
   ]
  },
  {
   "cell_type": "markdown",
   "metadata": {},
   "source": [
    "### 1.4 私有属性、方法\n",
    "\n",
    "C#、Java里面都是有**访问修饰符**的，Python呢？\n",
    "\n",
    "Python规定，如果**以双下划线\\__开头**的属性或者方法**就是私有的**\n",
    "\n",
    "变量名类似**__xxx__**的，也就是以双下划线开头，并且以双下划线结尾的，**是特殊变量**。特殊变量是可以直接访问的，**不是private变量**\n",
    "\n",
    "在说私有属性前，我们来个案例说说属性不私有的**弊端**，eg:\n",
    "\n",
    "小明同学学了点C#，然后学习了上面的知识，心想 ～ Python这么搞安全性呢？不行，我得构造构造，于是有了下面的代码："
   ]
  },
  {
   "cell_type": "code",
   "execution_count": 10,
   "metadata": {},
   "outputs": [],
   "source": [
    "class Student(object):\n",
    "    def __init__(self, name, age):\n",
    "        self.name = name\n",
    "        self.age = age\n",
    "\n",
    "    def get_name(self):\n",
    "        return self.name\n",
    "\n",
    "    def set_name(self, name):\n",
    "        self.name = name\n",
    "\n",
    "    def get_age(self):\n",
    "        return self.age\n",
    "\n",
    "    def set_age(self, age):\n",
    "        if age > 0:\n",
    "            self.age = age\n",
    "        else:\n",
    "            print(\"age must > 0\")\n",
    "\n",
    "    def show(self):\n",
    "        print(\"name:%s,age:%d\" % (self.name, self.age))\n"
   ]
  },
  {
   "cell_type": "markdown",
   "metadata": {},
   "source": [
    "小明心想，想要修改age属性，你通过set_age我就可以判断了哇，还是本宝宝聪明\n",
    "\n",
    "这时候小潘过来了，淡淡的一笑，看我怎么破了你 ～ 看代码："
   ]
  },
  {
   "cell_type": "code",
   "execution_count": 11,
   "metadata": {},
   "outputs": [
    {
     "name": "stdout",
     "output_type": "stream",
     "text": [
      "name:张三,age:-20\n",
      "name:张三,age:-1\n"
     ]
    }
   ],
   "source": [
    "zhangsan = Student(\"张三\", -20)\n",
    "zhangsan.show()  # name:张三,age:-20\n",
    "zhangsan.age = -1  # set_age方法形同虚设，我完全可以直接访问字段了\n",
    "zhangsan.show()  # name:张三,age:-1"
   ]
  },
  {
   "cell_type": "markdown",
   "metadata": {},
   "source": [
    "小潘傲气的说道～大叔，给你脸呢。我就是不去访问你设定的方法怎么滴呢？\n",
    "\n",
    "小明急的啊，赶紧去找伟哥求经。不一会，傲气的贴出自己的New Code，心想着我私有属性都用上了还怕个毛毛："
   ]
  },
  {
   "cell_type": "code",
   "execution_count": 12,
   "metadata": {},
   "outputs": [],
   "source": [
    "class Student(object):\n",
    "    def __init__(self, name, age):\n",
    "        self.__name = name\n",
    "        # 一般需要用到的属性都直接放在__init__里面了\n",
    "        # self.__age = age\n",
    "        self.set_age(age)\n",
    "\n",
    "    def get_name(self):\n",
    "        return self.__name\n",
    "\n",
    "    def set_name(self, name):\n",
    "        self.__name = name\n",
    "\n",
    "    def get_age(self):\n",
    "        return self.__age\n",
    "\n",
    "    def set_age(self, age):\n",
    "        if age > 0:\n",
    "            self.__age = age\n",
    "        else:\n",
    "            print(\"age must > 0\")\n",
    "\n",
    "    def show(self):\n",
    "        print(\"name:%s,age:%s\" % (self.__name, self.__age))"
   ]
  },
  {
   "cell_type": "markdown",
   "metadata": {},
   "source": [
    "小潘冷笑道～呵呵，然后使用了上次的绝招："
   ]
  },
  {
   "cell_type": "code",
   "execution_count": 13,
   "metadata": {},
   "outputs": [
    {
     "name": "stdout",
     "output_type": "stream",
     "text": [
      "age must > 0\n"
     ]
    },
    {
     "ename": "AttributeError",
     "evalue": "'Student' object has no attribute '_Student__age'",
     "output_type": "error",
     "traceback": [
      "\u001b[0;31m---------------------------------------------------------------------------\u001b[0m",
      "\u001b[0;31mAttributeError\u001b[0m                            Traceback (most recent call last)",
      "\u001b[0;32m<ipython-input-13-82c41ff46846>\u001b[0m in \u001b[0;36m<module>\u001b[0;34m()\u001b[0m\n\u001b[1;32m      1\u001b[0m \u001b[0mzhangsan\u001b[0m \u001b[0;34m=\u001b[0m \u001b[0mStudent\u001b[0m\u001b[0;34m(\u001b[0m\u001b[0;34m\"张三\"\u001b[0m\u001b[0;34m,\u001b[0m \u001b[0;34m-\u001b[0m\u001b[0;36m20\u001b[0m\u001b[0;34m)\u001b[0m\u001b[0;34m\u001b[0m\u001b[0m\n\u001b[1;32m      2\u001b[0m \u001b[0mzhangsan\u001b[0m\u001b[0;34m.\u001b[0m\u001b[0m__age\u001b[0m \u001b[0;34m=\u001b[0m \u001b[0;34m-\u001b[0m\u001b[0;36m1\u001b[0m  \u001b[0;31m# 同样的代码，只是属性前面加了下划线\u001b[0m\u001b[0;34m\u001b[0m\u001b[0m\n\u001b[0;32m----> 3\u001b[0;31m \u001b[0mzhangsan\u001b[0m\u001b[0;34m.\u001b[0m\u001b[0mshow\u001b[0m\u001b[0;34m(\u001b[0m\u001b[0;34m)\u001b[0m\u001b[0;34m\u001b[0m\u001b[0m\n\u001b[0m",
      "\u001b[0;32m<ipython-input-12-1dec32486a19>\u001b[0m in \u001b[0;36mshow\u001b[0;34m(self)\u001b[0m\n\u001b[1;32m     22\u001b[0m \u001b[0;34m\u001b[0m\u001b[0m\n\u001b[1;32m     23\u001b[0m     \u001b[0;32mdef\u001b[0m \u001b[0mshow\u001b[0m\u001b[0;34m(\u001b[0m\u001b[0mself\u001b[0m\u001b[0;34m)\u001b[0m\u001b[0;34m:\u001b[0m\u001b[0;34m\u001b[0m\u001b[0m\n\u001b[0;32m---> 24\u001b[0;31m         \u001b[0mprint\u001b[0m\u001b[0;34m(\u001b[0m\u001b[0;34m\"name:%s,age:%s\"\u001b[0m \u001b[0;34m%\u001b[0m \u001b[0;34m(\u001b[0m\u001b[0mself\u001b[0m\u001b[0;34m.\u001b[0m\u001b[0m__name\u001b[0m\u001b[0;34m,\u001b[0m \u001b[0mself\u001b[0m\u001b[0;34m.\u001b[0m\u001b[0m__age\u001b[0m\u001b[0;34m)\u001b[0m\u001b[0;34m)\u001b[0m\u001b[0;34m\u001b[0m\u001b[0m\n\u001b[0m",
      "\u001b[0;31mAttributeError\u001b[0m: 'Student' object has no attribute '_Student__age'"
     ]
    }
   ],
   "source": [
    "zhangsan = Student(\"张三\", -20)\n",
    "zhangsan.__age = -1  # 同样的代码，只是属性前面加了下划线\n",
    "zhangsan.show()"
   ]
  },
  {
   "cell_type": "markdown",
   "metadata": {},
   "source": [
    "这次小潘同志傻眼了，完全**不能访问**了啊？不行，怎么能被小明大叔笑话呢？\n",
    "\n",
    "于是上网翻资料，国内不行就国外，外文不好就翻译，终于找到一个新破解方式：\n",
    "\n",
    "双下划线开头的实例变量不能直接访问,是因为Python解释器对外把\\__age变量改成了_Student__age，所以，仍然可以通过**_Student__age**来访问："
   ]
  },
  {
   "cell_type": "code",
   "execution_count": 14,
   "metadata": {},
   "outputs": [
    {
     "name": "stdout",
     "output_type": "stream",
     "text": [
      "name:张三,age:-1\n"
     ]
    }
   ],
   "source": [
    "# 搞事情\n",
    "zhangsan._Student__age = -1\n",
    "zhangsan.show()"
   ]
  },
  {
   "cell_type": "markdown",
   "metadata": {},
   "source": [
    "建议你不要这么干，不同版本的Python解释器可能会把\\__age改成不同的变量名\n",
    "\n",
    "有些时候，你会看到**以一个下划线开头的实例变量名**，比如_age这样的实例变量,外部是可以访问的。\n",
    "\n",
    "但是，**请把它视为私有变量**，不要随意访问（**Python很多东西全凭自觉**~捂脸@_@）\n",
    "\n",
    "小潘终于长叹一口气，然后还不忘取笑小明同学～**你这属性搞的，真麻烦，总是通过方法调用，太累了** <_> 鄙视!\n",
    "\n",
    "这可把小明急的啊，学习的积极性都没有了，吃了碗牛肉面就去伟哥那边好好取经了～"
   ]
  },
  {
   "cell_type": "code",
   "execution_count": 15,
   "metadata": {
    "scrolled": true
   },
   "outputs": [
    {
     "ename": "AttributeError",
     "evalue": "'Student' object has no attribute '__go_home'",
     "output_type": "error",
     "traceback": [
      "\u001b[0;31m---------------------------------------------------------------------------\u001b[0m",
      "\u001b[0;31mAttributeError\u001b[0m                            Traceback (most recent call last)",
      "\u001b[0;32m<ipython-input-15-45c76191b808>\u001b[0m in \u001b[0;36m<module>\u001b[0;34m()\u001b[0m\n\u001b[1;32m      7\u001b[0m \u001b[0;34m\u001b[0m\u001b[0m\n\u001b[1;32m      8\u001b[0m \u001b[0mzhangsan\u001b[0m \u001b[0;34m=\u001b[0m \u001b[0mStudent\u001b[0m\u001b[0;34m(\u001b[0m\u001b[0;34m)\u001b[0m\u001b[0;34m\u001b[0m\u001b[0m\n\u001b[0;32m----> 9\u001b[0;31m \u001b[0mzhangsan\u001b[0m\u001b[0;34m.\u001b[0m\u001b[0m__go_home\u001b[0m\u001b[0;34m(\u001b[0m\u001b[0;34m)\u001b[0m \u001b[0;31m# 访问不到\u001b[0m\u001b[0;34m\u001b[0m\u001b[0m\n\u001b[0m",
      "\u001b[0;31mAttributeError\u001b[0m: 'Student' object has no attribute '__go_home'"
     ]
    }
   ],
   "source": [
    "# 私有方法一笔带过\n",
    "class Student(object):\n",
    "    \"\"\"私有方法\"\"\"\n",
    "    def __go_home(self):\n",
    "        pass\n",
    "\n",
    "\n",
    "zhangsan = Student()\n",
    "zhangsan.__go_home() # 访问不到"
   ]
  },
  {
   "cell_type": "markdown",
   "metadata": {},
   "source": [
    "### 1.5 装饰器，让方法像属性那样便利\n",
    "\n",
    "Python内置的`@property`装饰器就是负责把一个方法变成属性调用的，来个例子"
   ]
  },
  {
   "cell_type": "code",
   "execution_count": 16,
   "metadata": {},
   "outputs": [],
   "source": [
    "class Student(object):\n",
    "    def __init__(self, name, age):\n",
    "        # 一般需要用到的属性都直接放在__init__里面了\n",
    "        self.name = name\n",
    "        self.age = age\n",
    "\n",
    "    @property\n",
    "    def name(self):\n",
    "        return self.__name\n",
    "\n",
    "    @name.setter\n",
    "    def name(self, name):\n",
    "        self.__name = name\n",
    "\n",
    "    @property\n",
    "    def age(self):\n",
    "        return self.__age\n",
    "\n",
    "    @age.setter\n",
    "    def age(self, age):\n",
    "        if age > 0:\n",
    "            self.__age = age\n",
    "        else:\n",
    "            print(\"age must > 0\")\n",
    "\n",
    "    def show(self):\n",
    "        print(\"name:%s,age:%s\" % (self.name, self.age))\n"
   ]
  },
  {
   "cell_type": "code",
   "execution_count": 17,
   "metadata": {},
   "outputs": [
    {
     "name": "stdout",
     "output_type": "stream",
     "text": [
      "age must > 0\n",
      "name:小潘,age:22\n"
     ]
    }
   ],
   "source": [
    "xiaoming = Student(\"小明\", 22)\n",
    "xiaoming.name = \"小潘\"\n",
    "xiaoming.age = -2\n",
    "xiaoming.show()"
   ]
  },
  {
   "cell_type": "markdown",
   "metadata": {},
   "source": [
    "把一个getter**方法变成属性**，只需要加上`@property`就可以了\n",
    "\n",
    "`@方法名.setter`，负责把一个setter方法变成**属性赋值**\n",
    "\n",
    "当然了，如果只想读 ==> 就只打上`@property`标签\n",
    "\n",
    "小明同学高兴坏了，赶紧大吃了一顿～\n",
    "\n",
    "---\n",
    "\n",
    "### 1.6 \\__del\\__ and \\__new\\__\n",
    "\n"
   ]
  },
  {
   "cell_type": "code",
   "execution_count": null,
   "metadata": {},
   "outputs": [],
   "source": []
  },
  {
   "cell_type": "code",
   "execution_count": null,
   "metadata": {},
   "outputs": [],
   "source": []
  },
  {
   "cell_type": "code",
   "execution_count": null,
   "metadata": {},
   "outputs": [],
   "source": []
  },
  {
   "cell_type": "code",
   "execution_count": null,
   "metadata": {},
   "outputs": [],
   "source": []
  },
  {
   "cell_type": "code",
   "execution_count": null,
   "metadata": {},
   "outputs": [],
   "source": []
  },
  {
   "cell_type": "code",
   "execution_count": null,
   "metadata": {},
   "outputs": [],
   "source": []
  },
  {
   "cell_type": "code",
   "execution_count": null,
   "metadata": {},
   "outputs": [],
   "source": []
  }
 ],
 "metadata": {
  "kernelspec": {
   "display_name": "Python 3",
   "language": "python",
   "name": "python3"
  },
  "language_info": {
   "codemirror_mode": {
    "name": "ipython",
    "version": 3
   },
   "file_extension": ".py",
   "mimetype": "text/x-python",
   "name": "python",
   "nbconvert_exporter": "python",
   "pygments_lexer": "ipython3",
   "version": "3.6.5"
  }
 },
 "nbformat": 4,
 "nbformat_minor": 2
}
