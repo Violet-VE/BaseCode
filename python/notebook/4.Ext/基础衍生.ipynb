{
 "cells": [
  {
   "cell_type": "markdown",
   "metadata": {},
   "source": [
    "## 1.基础语法扩展\n",
    "\n",
    "### 1.1.if 判断条件相关\n",
    "\n",
    "`None、\"\"、0、[]、{}` ==> 假\n",
    "\n",
    "`1、\" \"、[None,\"\"]、{\"\":None}` ==> 真"
   ]
  },
  {
   "cell_type": "code",
   "execution_count": 1,
   "metadata": {},
   "outputs": [
    {
     "name": "stdout",
     "output_type": "stream",
     "text": [
      "False\n"
     ]
    }
   ],
   "source": [
    "# None\n",
    "if None:\n",
    "    print(True)\n",
    "else:\n",
    "    print(False)"
   ]
  },
  {
   "cell_type": "code",
   "execution_count": 2,
   "metadata": {},
   "outputs": [
    {
     "name": "stdout",
     "output_type": "stream",
     "text": [
      "False\n"
     ]
    }
   ],
   "source": [
    "# 0为False\n",
    "if 0:\n",
    "    print(True)\n",
    "else:\n",
    "    print(False)"
   ]
  },
  {
   "cell_type": "code",
   "execution_count": 3,
   "metadata": {},
   "outputs": [
    {
     "name": "stdout",
     "output_type": "stream",
     "text": [
      "False\n"
     ]
    }
   ],
   "source": [
    "# 空字符串\n",
    "if \"\":\n",
    "    print(True)\n",
    "else:\n",
    "    print(False)"
   ]
  },
  {
   "cell_type": "code",
   "execution_count": 4,
   "metadata": {},
   "outputs": [
    {
     "name": "stdout",
     "output_type": "stream",
     "text": [
      "False\n"
     ]
    }
   ],
   "source": [
    "# 空列表为False\n",
    "if []:\n",
    "    print(True)\n",
    "else:\n",
    "    print(False)"
   ]
  },
  {
   "cell_type": "code",
   "execution_count": 5,
   "metadata": {},
   "outputs": [
    {
     "name": "stdout",
     "output_type": "stream",
     "text": [
      "False\n"
     ]
    }
   ],
   "source": [
    "# 空字典为False\n",
    "if {}:\n",
    "    print(True)\n",
    "else:\n",
    "    print(False)"
   ]
  },
  {
   "cell_type": "code",
   "execution_count": 6,
   "metadata": {},
   "outputs": [
    {
     "name": "stdout",
     "output_type": "stream",
     "text": [
      "True\n"
     ]
    }
   ],
   "source": [
    "# 1为True\n",
    "if 1:\n",
    "    print(True)\n",
    "else:\n",
    "    print(False)"
   ]
  },
  {
   "cell_type": "code",
   "execution_count": 7,
   "metadata": {},
   "outputs": [
    {
     "name": "stdout",
     "output_type": "stream",
     "text": [
      "True\n"
     ]
    }
   ],
   "source": [
    "# 含空格\n",
    "if \" \":\n",
    "    print(True)\n",
    "else:\n",
    "    print(False)"
   ]
  },
  {
   "cell_type": "code",
   "execution_count": 8,
   "metadata": {},
   "outputs": [
    {
     "name": "stdout",
     "output_type": "stream",
     "text": [
      "True\n"
     ]
    }
   ],
   "source": [
    "if [None,\"\"]:\n",
    "    print(True)\n",
    "else:\n",
    "    print(False)"
   ]
  },
  {
   "cell_type": "code",
   "execution_count": 9,
   "metadata": {},
   "outputs": [
    {
     "name": "stdout",
     "output_type": "stream",
     "text": [
      "True\n"
     ]
    }
   ],
   "source": [
    "if {\"\":None}:\n",
    "    print(True)\n",
    "else:\n",
    "    print(False)"
   ]
  },
  {
   "cell_type": "markdown",
   "metadata": {},
   "source": [
    "### 1.2.字符串和编码\n",
    "\n",
    "在`Python3.x`版本中，字符串是以`Unicode`编码的\n",
    "\n",
    "对于单个字符的编码，Python提供了`ord()`函数获取字符的整数表示，`chr()`函数把编码转换为对应的字符"
   ]
  },
  {
   "cell_type": "code",
   "execution_count": 10,
   "metadata": {},
   "outputs": [
    {
     "data": {
      "text/plain": [
       "68"
      ]
     },
     "execution_count": 10,
     "metadata": {},
     "output_type": "execute_result"
    }
   ],
   "source": [
    "ord('D')"
   ]
  },
  {
   "cell_type": "code",
   "execution_count": 11,
   "metadata": {},
   "outputs": [
    {
     "data": {
      "text/plain": [
       "27602"
      ]
     },
     "execution_count": 11,
     "metadata": {},
     "output_type": "execute_result"
    }
   ],
   "source": [
    "ord('毒')"
   ]
  },
  {
   "cell_type": "code",
   "execution_count": 12,
   "metadata": {},
   "outputs": [
    {
     "data": {
      "text/plain": [
       "'D'"
      ]
     },
     "execution_count": 12,
     "metadata": {},
     "output_type": "execute_result"
    }
   ],
   "source": [
    "chr(68)"
   ]
  },
  {
   "cell_type": "code",
   "execution_count": 13,
   "metadata": {},
   "outputs": [
    {
     "data": {
      "text/plain": [
       "'毒'"
      ]
     },
     "execution_count": 13,
     "metadata": {},
     "output_type": "execute_result"
    }
   ],
   "source": [
    "chr(27602)"
   ]
  },
  {
   "cell_type": "code",
   "execution_count": 14,
   "metadata": {},
   "outputs": [
    {
     "name": "stdout",
     "output_type": "stream",
     "text": [
      "65\n",
      "90\n",
      "97\n",
      "122\n"
     ]
    }
   ],
   "source": [
    "print(ord('A'))\n",
    "print(ord('Z'))\n",
    "\n",
    "print(ord('a'))\n",
    "print(ord('z'))"
   ]
  },
  {
   "cell_type": "markdown",
   "metadata": {},
   "source": [
    "编码：`encode()` 解码：`decode()`\n",
    "\n",
    "url相关的可以用：\n",
    "\n",
    "`urllib.parse.quote()` and `urllib.parse.unquote()`\n",
    "\n",
    "\n",
    "`urllib.parse.urlencode()` 可以直接对一个`key-value`进行`url`编码"
   ]
  },
  {
   "cell_type": "code",
   "execution_count": 15,
   "metadata": {},
   "outputs": [
    {
     "name": "stdout",
     "output_type": "stream",
     "text": [
      "b'\\xe6\\xaf\\x92\\xe9\\x80\\x86\\xe5\\xa4\\xa9'\n",
      "毒逆天\n"
     ]
    }
   ],
   "source": [
    "# encode() and decode()\n",
    "name=\"毒逆天\"\n",
    "\n",
    "name_encode=name.encode(\"utf-8\")\n",
    "\n",
    "print(name_encode)\n",
    "\n",
    "print(name_encode.decode(\"utf-8\"))"
   ]
  },
  {
   "cell_type": "code",
   "execution_count": 16,
   "metadata": {},
   "outputs": [],
   "source": [
    "# 需要导入urlib.parse\n",
    "\n",
    "import urllib.parse"
   ]
  },
  {
   "cell_type": "code",
   "execution_count": 17,
   "metadata": {},
   "outputs": [
    {
     "name": "stdout",
     "output_type": "stream",
     "text": [
      "%E6%B7%A1%E5%AE%9A\n",
      "淡定\n"
     ]
    }
   ],
   "source": [
    "test_str=\"淡定\"\n",
    "\n",
    "# 对字符串进行url编码和解码\n",
    "test_str_enode = urllib.parse.quote(test_str)\n",
    "\n",
    "print(test_str_enode)\n",
    "\n",
    "# urllib.parse.quote() 解码\n",
    "print(urllib.parse.unquote(test_str_enode))"
   ]
  },
  {
   "cell_type": "code",
   "execution_count": 18,
   "metadata": {
    "scrolled": true
   },
   "outputs": [
    {
     "name": "stdout",
     "output_type": "stream",
     "text": [
      "name=%E6%AF%92%E9%80%86%E5%A4%A9&age=23\n",
      "name=毒逆天&age=23\n"
     ]
    }
   ],
   "source": [
    "# urlencode 可以直接对一个key-value进行编码\n",
    "\n",
    "test_dict={\"name\":\"毒逆天\",\"age\":23}\n",
    "\n",
    "encode_str = urllib.parse.urlencode(test_dict)\n",
    "\n",
    "print(encode_str)\n",
    "print(urllib.parse.unquote(encode_str))"
   ]
  },
  {
   "cell_type": "markdown",
   "metadata": {},
   "source": [
    "### 1.3.值判断和地址判断\n",
    "\n",
    "**is 是比较两个引用是否指向了同一个对象**（`id()`得到的地址一样则相同）\n",
    "\n",
    "**== 是比较两个对象的值是否相等**\n",
    "\n",
    "在之前讲Dict的时候提了一下可变和不可变类型：<a href=\"https://www.cnblogs.com/dotnetcrazy/p/9155310.html#5.2.增加和修改\" target=\"_blank\">https://www.cnblogs.com/dotnetcrazy/p/9155310.html#5.2.增加和修改</a>\n",
    "\n",
    "Func里面又系统的说了一下：<a href=\"https://www.cnblogs.com/dotnetcrazy/p/9175950.html#4.5.可变类型和不可变类型\" target=\"_blank\">https://www.cnblogs.com/dotnetcrazy/p/9175950.html#4.5.可变类型和不可变类型</a>\n",
    "\n",
    "对于可变不可变系列就不去复述了，下面再来几个案例看看 **值判断**和 **地址判断**的概念"
   ]
  },
  {
   "cell_type": "code",
   "execution_count": 19,
   "metadata": {},
   "outputs": [],
   "source": [
    "################ 可变类型 ################ "
   ]
  },
  {
   "cell_type": "code",
   "execution_count": 20,
   "metadata": {},
   "outputs": [
    {
     "name": "stdout",
     "output_type": "stream",
     "text": [
      "140457245764424\n",
      "140457245930696\n"
     ]
    }
   ],
   "source": [
    "a=[1,2,3]\n",
    "b=[1,2,3]\n",
    "\n",
    "# id不一样，那is肯定不一样了\n",
    "print(id(a))\n",
    "print(id(b))"
   ]
  },
  {
   "cell_type": "code",
   "execution_count": 21,
   "metadata": {},
   "outputs": [
    {
     "data": {
      "text/plain": [
       "False"
      ]
     },
     "execution_count": 21,
     "metadata": {},
     "output_type": "execute_result"
    }
   ],
   "source": [
    "# a和b是否指向同一个地址\n",
    "a is b"
   ]
  },
  {
   "cell_type": "code",
   "execution_count": 22,
   "metadata": {},
   "outputs": [
    {
     "data": {
      "text/plain": [
       "True"
      ]
     },
     "execution_count": 22,
     "metadata": {},
     "output_type": "execute_result"
    }
   ],
   "source": [
    "# a和b的值是否相同\n",
    "a == b"
   ]
  },
  {
   "cell_type": "code",
   "execution_count": 23,
   "metadata": {},
   "outputs": [],
   "source": [
    "################ 开始变化了 ################ "
   ]
  },
  {
   "cell_type": "code",
   "execution_count": 24,
   "metadata": {},
   "outputs": [
    {
     "name": "stdout",
     "output_type": "stream",
     "text": [
      "140457245930696\n",
      "140457245930696\n"
     ]
    }
   ],
   "source": [
    "# 让a指向b的地址\n",
    "a=b\n",
    "\n",
    "# a和b的id一样了\n",
    "print(id(a))\n",
    "print(id(b))"
   ]
  },
  {
   "cell_type": "code",
   "execution_count": 25,
   "metadata": {},
   "outputs": [
    {
     "data": {
      "text/plain": [
       "True"
      ]
     },
     "execution_count": 25,
     "metadata": {},
     "output_type": "execute_result"
    }
   ],
   "source": [
    "# a和b是否指向同一个地址\n",
    "a is b"
   ]
  },
  {
   "cell_type": "code",
   "execution_count": 26,
   "metadata": {},
   "outputs": [
    {
     "data": {
      "text/plain": [
       "True"
      ]
     },
     "execution_count": 26,
     "metadata": {},
     "output_type": "execute_result"
    }
   ],
   "source": [
    "# a和b的值是否相同\n",
    "a == b"
   ]
  },
  {
   "cell_type": "code",
   "execution_count": 27,
   "metadata": {},
   "outputs": [],
   "source": [
    "################ 不可变类型 ################ "
   ]
  },
  {
   "cell_type": "code",
   "execution_count": 28,
   "metadata": {},
   "outputs": [
    {
     "name": "stdout",
     "output_type": "stream",
     "text": [
      "94276250368544\n",
      "94276250368544\n"
     ]
    }
   ],
   "source": [
    "a=1\n",
    "b=1\n",
    "\n",
    "# id一样\n",
    "print(id(a))\n",
    "print(id(b))"
   ]
  },
  {
   "cell_type": "code",
   "execution_count": 29,
   "metadata": {},
   "outputs": [
    {
     "data": {
      "text/plain": [
       "True"
      ]
     },
     "execution_count": 29,
     "metadata": {},
     "output_type": "execute_result"
    }
   ],
   "source": [
    "a is b"
   ]
  },
  {
   "cell_type": "code",
   "execution_count": 30,
   "metadata": {
    "scrolled": true
   },
   "outputs": [
    {
     "data": {
      "text/plain": [
       "True"
      ]
     },
     "execution_count": 30,
     "metadata": {},
     "output_type": "execute_result"
    }
   ],
   "source": [
    "a == b"
   ]
  },
  {
   "cell_type": "code",
   "execution_count": 31,
   "metadata": {},
   "outputs": [
    {
     "name": "stdout",
     "output_type": "stream",
     "text": [
      "140457272769536\n",
      "140457272769632\n"
     ]
    }
   ],
   "source": [
    "# 但是你要注意，不是所有不可变类型都这样的\n",
    "\n",
    "f1=1.2\n",
    "f2=1.2\n",
    "\n",
    "# 声明两个相同值的浮点型变量，查看它们的id，发现它们并不是指向同个内存地址(这点和int类型不同)\n",
    "print(id(f1))\n",
    "print(id(f2))"
   ]
  },
  {
   "cell_type": "code",
   "execution_count": 32,
   "metadata": {},
   "outputs": [
    {
     "data": {
      "text/plain": [
       "False"
      ]
     },
     "execution_count": 32,
     "metadata": {},
     "output_type": "execute_result"
    }
   ],
   "source": [
    "# 这个就不一样了\n",
    "# 这方面涉及Python内存管理机制，Python对int类型和较短的字符串进行了缓存\n",
    "# 无论声明多少个值相同的变量，实际上都指向同个内存地址，其他的就没这福利咯～\n",
    "\n",
    "f1 is f2"
   ]
  },
  {
   "cell_type": "code",
   "execution_count": 33,
   "metadata": {},
   "outputs": [
    {
     "data": {
      "text/plain": [
       "True"
      ]
     },
     "execution_count": 33,
     "metadata": {},
     "output_type": "execute_result"
    }
   ],
   "source": [
    "f1 == f2"
   ]
  },
  {
   "cell_type": "markdown",
   "metadata": {},
   "source": [
    "## 2.for系列总结\n",
    "\n",
    "之前说for总是零零散散的，现在基础都讲完了，来个小汇总：\n",
    "\n",
    "### 2.1.Base\n",
    "\n",
    "For基础系：<a href=\"https://www.cnblogs.com/dotnetcrazy/p/9102030.html#9.1.Python\" target=\"_blank\">https://www.cnblogs.com/dotnetcrazy/p/9102030.html#9.1.Python</a>"
   ]
  },
  {
   "cell_type": "code",
   "execution_count": 34,
   "metadata": {},
   "outputs": [
    {
     "name": "stdout",
     "output_type": "stream",
     "text": [
      "0\n",
      "1\n",
      "2\n",
      "3\n",
      "4\n"
     ]
    }
   ],
   "source": [
    "# 类似于for(int i=0;i<5;i++)\n",
    "\n",
    "for i in range(5):\n",
    "    print(i)\n",
    "    i+=1"
   ]
  },
  {
   "cell_type": "code",
   "execution_count": 35,
   "metadata": {},
   "outputs": [
    {
     "name": "stdout",
     "output_type": "stream",
     "text": [
      "https://pan.baidu.com/s/1weaF2DGsgDzAcniRzNqfyQ\n",
      " end ...\n"
     ]
    }
   ],
   "source": [
    "#while循环一般通过数值是否满足来确定循环的条件\n",
    "#for循环一般是对能保存多个数据的变量，进行遍历\n",
    "\n",
    "name=\"https://pan.baidu.com/s/1weaF2DGsgDzAcniRzNqfyQ#mmd\"\n",
    "\n",
    "for i in name:\n",
    "    if i=='#':\n",
    "        break\n",
    "    print(i,end='')#另一种写法：print(\"%s\"%i,end=\"\")\n",
    "print('\\n end ...')"
   ]
  },
  {
   "cell_type": "code",
   "execution_count": 36,
   "metadata": {},
   "outputs": [
    {
     "name": "stdout",
     "output_type": "stream",
     "text": [
      "i = 5\n",
      "没有找到\n"
     ]
    }
   ],
   "source": [
    "# 你期望的结果是：i = 5\n",
    "\n",
    "for i in range(10):\n",
    "    if i == 5:\n",
    "        print(\"i = %d\" % i)\n",
    "else:\n",
    "    print(\"没有找到\")"
   ]
  },
  {
   "cell_type": "code",
   "execution_count": 37,
   "metadata": {},
   "outputs": [
    {
     "name": "stdout",
     "output_type": "stream",
     "text": [
      "i = 5\n"
     ]
    }
   ],
   "source": [
    "# 当迭代的对象迭代完并为空时，位于else的子句将执行\n",
    "# 而如果在for循环中含有break时则直接终止循环，并不会执行else子句\n",
    "# 正确写法如下：\n",
    "\n",
    "for i in range(10):\n",
    "    if i == 5:\n",
    "        print(\"i = %d\" % i)\n",
    "        break\n",
    "else:\n",
    "    print(\"没有找到\")"
   ]
  },
  {
   "cell_type": "markdown",
   "metadata": {},
   "source": [
    "### 2.2.列表生成式\n",
    "\n",
    "如果下面知识点还不熟悉的，看看之前讲的～列表生成式：<a href=\"https://www.cnblogs.com/dotnetcrazy/p/9155310.html#1.9.列表生成式\" target=\"_blank\">https://www.cnblogs.com/dotnetcrazy/p/9155310.html#1.9.列表生成式</a>\n",
    "\n",
    "**简写**：`list(range(1, 11))`\n",
    "**全写**：`[x for x in range(1,11)]`"
   ]
  },
  {
   "cell_type": "code",
   "execution_count": 38,
   "metadata": {},
   "outputs": [
    {
     "data": {
      "text/plain": [
       "[1, 2, 3, 4, 5, 6, 7, 8, 9, 10]"
      ]
     },
     "execution_count": 38,
     "metadata": {},
     "output_type": "execute_result"
    }
   ],
   "source": [
    "list(range(1, 11))"
   ]
  },
  {
   "cell_type": "code",
   "execution_count": 39,
   "metadata": {},
   "outputs": [
    {
     "data": {
      "text/plain": [
       "[1, 2, 3, 4, 5, 6, 7, 8, 9, 10]"
      ]
     },
     "execution_count": 39,
     "metadata": {},
     "output_type": "execute_result"
    }
   ],
   "source": [
    "[x for x in range(1,11)]"
   ]
  },
  {
   "cell_type": "code",
   "execution_count": 40,
   "metadata": {},
   "outputs": [
    {
     "data": {
      "text/plain": [
       "[1, 4, 9, 16, 25, 36, 49, 64, 81, 100]"
      ]
     },
     "execution_count": 40,
     "metadata": {},
     "output_type": "execute_result"
    }
   ],
   "source": [
    "# 1~10的平方列表\n",
    "[x*x for x in range(1,11)]"
   ]
  },
  {
   "cell_type": "code",
   "execution_count": 41,
   "metadata": {},
   "outputs": [
    {
     "data": {
      "text/plain": [
       "[2, 4, 6, 8, 10]"
      ]
     },
     "execution_count": 41,
     "metadata": {},
     "output_type": "execute_result"
    }
   ],
   "source": [
    "# 1~10之间的偶数\n",
    "[x for x in range(1, 11) if x % 2 == 0]"
   ]
  },
  {
   "cell_type": "code",
   "execution_count": 42,
   "metadata": {},
   "outputs": [
    {
     "data": {
      "text/plain": [
       "['AA', 'AB', 'BA', 'BB', 'CA', 'CB']"
      ]
     },
     "execution_count": 42,
     "metadata": {},
     "output_type": "execute_result"
    }
   ],
   "source": [
    "# 数学里面的全排列\n",
    "[x + y for x in 'ABC' for y in 'AB']"
   ]
  },
  {
   "cell_type": "code",
   "execution_count": 43,
   "metadata": {},
   "outputs": [
    {
     "data": {
      "text/plain": [
       "[(1, 1),\n",
       " (1, 2),\n",
       " (1, 3),\n",
       " (2, 1),\n",
       " (2, 2),\n",
       " (2, 3),\n",
       " (3, 1),\n",
       " (3, 2),\n",
       " (3, 3),\n",
       " (4, 1),\n",
       " (4, 2),\n",
       " (4, 3)]"
      ]
     },
     "execution_count": 43,
     "metadata": {},
     "output_type": "execute_result"
    }
   ],
   "source": [
    "# 数学里面的坐标轴\n",
    "[(x,y) for x in range(1,5) for y in range(1,4)]"
   ]
  },
  {
   "cell_type": "code",
   "execution_count": 44,
   "metadata": {
    "scrolled": true
   },
   "outputs": [
    {
     "data": {
      "text/plain": [
       "[(1, 1, 1),\n",
       " (1, 1, 2),\n",
       " (1, 2, 1),\n",
       " (1, 2, 2),\n",
       " (1, 3, 1),\n",
       " (1, 3, 2),\n",
       " (2, 1, 1),\n",
       " (2, 1, 2),\n",
       " (2, 2, 1),\n",
       " (2, 2, 2),\n",
       " (2, 3, 1),\n",
       " (2, 3, 2),\n",
       " (3, 1, 1),\n",
       " (3, 1, 2),\n",
       " (3, 2, 1),\n",
       " (3, 2, 2),\n",
       " (3, 3, 1),\n",
       " (3, 3, 2),\n",
       " (4, 1, 1),\n",
       " (4, 1, 2),\n",
       " (4, 2, 1),\n",
       " (4, 2, 2),\n",
       " (4, 3, 1),\n",
       " (4, 3, 2)]"
      ]
     },
     "execution_count": 44,
     "metadata": {},
     "output_type": "execute_result"
    }
   ],
   "source": [
    "# (x,y,z)\n",
    "[(x,y,z) for x in range(1,5) for y in range(1,4) for z in range(1,3)]"
   ]
  },
  {
   "cell_type": "markdown",
   "metadata": {},
   "source": [
    "## 3.赋值、浅拷贝、深拷贝\n",
    "\n",
    "官方文档：<a href=\"https://docs.python.org/3/library/copy.html\" target=\"_blank\">https://docs.python.org/3/library/copy.html</a>\n",
    "\n",
    "### 3.1.赋值\n",
    "\n",
    "通过`=`来实现，就是把地址拷贝了一份，比如 `a = b`"
   ]
  },
  {
   "cell_type": "code",
   "execution_count": 45,
   "metadata": {},
   "outputs": [
    {
     "name": "stdout",
     "output_type": "stream",
     "text": [
      "140457245565384\n",
      "140457245565384\n"
     ]
    }
   ],
   "source": [
    "a=[1,2,2]\n",
    "b = a\n",
    "\n",
    "print(id(a))\n",
    "print(id(b))"
   ]
  },
  {
   "cell_type": "code",
   "execution_count": 46,
   "metadata": {},
   "outputs": [
    {
     "name": "stdout",
     "output_type": "stream",
     "text": [
      "[1, 2, 2, 3]\n",
      "[1, 2, 2, 3]\n"
     ]
    }
   ],
   "source": [
    "# 再验证\n",
    "\n",
    "a.append(3)\n",
    "\n",
    "# 都增加了一个3，说明的确指向同一个内存地址\n",
    "print(a)\n",
    "print(b)"
   ]
  },
  {
   "cell_type": "markdown",
   "metadata": {},
   "source": [
    "### 3.2.深拷贝deepcopy\n",
    "\n",
    "导入`copy`模块，调用`deepcopy`方法\n",
    "\n",
    "如果有嵌套引用的情况，直接递归拷贝"
   ]
  },
  {
   "cell_type": "code",
   "execution_count": 47,
   "metadata": {},
   "outputs": [],
   "source": [
    "import copy\n",
    "\n",
    "a=[1,2,2]"
   ]
  },
  {
   "cell_type": "code",
   "execution_count": 48,
   "metadata": {},
   "outputs": [
    {
     "name": "stdout",
     "output_type": "stream",
     "text": [
      "140457245565832\n",
      "140457245930952\n"
     ]
    }
   ],
   "source": [
    "b=copy.deepcopy(a)\n",
    "\n",
    "# 指向了不同的内存地址\n",
    "print(id(a))\n",
    "print(id(b))"
   ]
  },
  {
   "cell_type": "code",
   "execution_count": 49,
   "metadata": {},
   "outputs": [
    {
     "name": "stdout",
     "output_type": "stream",
     "text": [
      "[1, 2, 2, 3]\n",
      "[1, 2, 2]\n"
     ]
    }
   ],
   "source": [
    "# 再验证一下\n",
    "\n",
    "a.append(3)\n",
    "\n",
    "# b不变，说明的确指向不同的内存地址\n",
    "print(a)\n",
    "print(b)"
   ]
  },
  {
   "cell_type": "code",
   "execution_count": 50,
   "metadata": {},
   "outputs": [],
   "source": [
    "################ 开始变化了 ################ "
   ]
  },
  {
   "cell_type": "code",
   "execution_count": 51,
   "metadata": {},
   "outputs": [
    {
     "name": "stdout",
     "output_type": "stream",
     "text": [
      "140457246508424\n",
      "140457245565832\n",
      "140457245516296\n",
      "140457246646920\n"
     ]
    }
   ],
   "source": [
    "# 之前讲了嵌套列表，我们来验证一下\n",
    "\n",
    "a=[1,2,2]\n",
    "b=[1,2,3,a]\n",
    "\n",
    "c=copy.deepcopy(b)\n",
    "\n",
    "# 发现地址都不一样\n",
    "print(id(b))\n",
    "print(id(c))\n",
    "print(id(b[3]))\n",
    "print(id(c[3]))"
   ]
  },
  {
   "cell_type": "code",
   "execution_count": 52,
   "metadata": {},
   "outputs": [
    {
     "name": "stdout",
     "output_type": "stream",
     "text": [
      "[1, 2, 3, [1, 2, 2, 666]]\n",
      "[1, 2, 3, [1, 2, 2]]\n"
     ]
    }
   ],
   "source": [
    "# 直观的验证一下\n",
    "\n",
    "a.append(666)\n",
    "\n",
    "# 深拷贝的确是深拷贝\n",
    "print(b)\n",
    "print(c)"
   ]
  },
  {
   "cell_type": "markdown",
   "metadata": {},
   "source": [
    "### 3.3.浅拷贝copy\n",
    "\n",
    "copy只是简单拷贝，如果拷贝内容里面还有引用之类的，他是不管的"
   ]
  },
  {
   "cell_type": "code",
   "execution_count": 53,
   "metadata": {},
   "outputs": [],
   "source": [
    "import copy\n",
    "\n",
    "a=[1,2,2]"
   ]
  },
  {
   "cell_type": "code",
   "execution_count": 54,
   "metadata": {},
   "outputs": [
    {
     "name": "stdout",
     "output_type": "stream",
     "text": [
      "140457245930952\n",
      "140457245764424\n"
     ]
    }
   ],
   "source": [
    "b=copy.copy(a)\n",
    "\n",
    "# 指向了不同的内存地址\n",
    "print(id(a))\n",
    "print(id(b))"
   ]
  },
  {
   "cell_type": "code",
   "execution_count": 55,
   "metadata": {},
   "outputs": [],
   "source": [
    "################ 开始变化了 ################ "
   ]
  },
  {
   "cell_type": "code",
   "execution_count": 56,
   "metadata": {},
   "outputs": [
    {
     "name": "stdout",
     "output_type": "stream",
     "text": [
      "140457245565384\n",
      "140457245930952\n"
     ]
    }
   ],
   "source": [
    "# 之前讲了嵌套列表，我们来验证一下\n",
    "\n",
    "a=[1,2,2]\n",
    "b=[1,2,3,a]\n",
    "\n",
    "c=copy.copy(b)\n",
    "\n",
    "# 第一层地址不一样\n",
    "print(id(b))\n",
    "print(id(c))"
   ]
  },
  {
   "cell_type": "code",
   "execution_count": 57,
   "metadata": {},
   "outputs": [
    {
     "name": "stdout",
     "output_type": "stream",
     "text": [
      "[1, 2, 3, [1, 2, 2], 111]\n",
      "[1, 2, 3, [1, 2, 2]]\n"
     ]
    }
   ],
   "source": [
    "# 验证一下\n",
    "b.append(111)\n",
    "\n",
    "# 第一层指向的不同地址\n",
    "print(b)\n",
    "print(c)"
   ]
  },
  {
   "cell_type": "code",
   "execution_count": 58,
   "metadata": {
    "scrolled": true
   },
   "outputs": [
    {
     "name": "stdout",
     "output_type": "stream",
     "text": [
      "140457246647944\n",
      "140457246647944\n"
     ]
    }
   ],
   "source": [
    "# 如果里面还有引用，那么就不管了\n",
    "print(id(b[3]))\n",
    "print(id(c[3]))"
   ]
  },
  {
   "cell_type": "code",
   "execution_count": 59,
   "metadata": {},
   "outputs": [
    {
     "name": "stdout",
     "output_type": "stream",
     "text": [
      "[1, 2, 3, [1, 2, 2, 666], 111]\n",
      "[1, 2, 3, [1, 2, 2, 666]]\n"
     ]
    }
   ],
   "source": [
    "# 验证一下\n",
    "a.append(666)\n",
    "\n",
    "# 内部引用的确没copy新地址\n",
    "print(b)\n",
    "print(c)"
   ]
  },
  {
   "cell_type": "markdown",
   "metadata": {},
   "source": [
    "### 3.4.知识扩展\n",
    "\n",
    "**如果拷贝的对象是不可变类型，不管深拷贝和浅拷贝以及赋值都是地址引用**"
   ]
  },
  {
   "cell_type": "code",
   "execution_count": 60,
   "metadata": {},
   "outputs": [
    {
     "name": "stdout",
     "output_type": "stream",
     "text": [
      "140457245556672\n",
      "140457245556672\n"
     ]
    }
   ],
   "source": [
    "a=(1,2,2)\n",
    "b=a\n",
    "\n",
    "print(id(a))\n",
    "print(id(b))"
   ]
  },
  {
   "cell_type": "code",
   "execution_count": 61,
   "metadata": {},
   "outputs": [
    {
     "name": "stdout",
     "output_type": "stream",
     "text": [
      "140457245573192\n",
      "140457245573192\n"
     ]
    }
   ],
   "source": [
    "a=(1,2,2)\n",
    "b=copy.deepcopy(a)\n",
    "\n",
    "print(id(a))\n",
    "print(id(b))"
   ]
  },
  {
   "cell_type": "code",
   "execution_count": 62,
   "metadata": {},
   "outputs": [
    {
     "name": "stdout",
     "output_type": "stream",
     "text": [
      "140457245556672\n",
      "140457245556672\n"
     ]
    }
   ],
   "source": [
    "a=(1,2,2)\n",
    "b=copy.copy(a)\n",
    "\n",
    "print(id(a))\n",
    "print(id(b))"
   ]
  },
  {
   "cell_type": "markdown",
   "metadata": {},
   "source": [
    "### 3.5.NetCore中赋值、浅拷贝和深拷贝\n",
    "\n",
    "赋值方法和`Python`一样，直接赋值即可\n",
    "```csharp\n",
    "var list1 = new List<int>() { 1, 2, 2 };\n",
    "var list2 = list1;\n",
    "```"
   ]
  },
  {
   "cell_type": "code",
   "execution_count": 1,
   "metadata": {},
   "outputs": [
    {
     "name": "stdout",
     "output_type": "stream",
     "text": [
      "1 2 2 3 \n",
      "1 2 2 3 "
     ]
    }
   ],
   "source": [
    "%%script csharp\n",
    "\n",
    "// Python一样，直接赋值即可\n",
    "var list1 = new List<int>() { 1, 2, 2 };\n",
    "var list2 = list1;\n",
    "\n",
    "// 验证一下\n",
    "list1.Add(3);//我们修改一下list1，list2也就跟着就改变了\n",
    "\n",
    "foreach (var item in list1)\n",
    "{\n",
    "    Console.Write(item + \" \");\n",
    "}\n",
    "Console.WriteLine();\n",
    "foreach (var item in list2)\n",
    "{\n",
    "    Console.Write(item + \" \");\n",
    "}"
   ]
  },
  {
   "cell_type": "markdown",
   "metadata": {},
   "source": [
    "NetCore深拷贝相关的<a href=\"https://docs.microsoft.com/zh-cn/dotnet/api/system.collections.generic.list-1.copyto?view=netcore-2.1\" target=\"_blank\">官方文档</a> `public void CopyTo (T[] array);`\n",
    "\n",
    "\n",
    "简单类型用**最简单的方式**就能实现深拷贝了：\n",
    "```csharp\n",
    "var list3 = new List<int>() { 1, 2, 2 };\n",
    "var list4 = new List<int>();\n",
    "list4.AddRange(list3);\n",
    "\n",
    "// 验证一下\n",
    "list3.Add(3);\n",
    "foreach (var item in list3)\n",
    "{\n",
    "    Console.Write(item + \" \");\n",
    "}\n",
    "Console.WriteLine();\n",
    "foreach (var item in list4)\n",
    "{\n",
    "    Console.Write(item + \" \");\n",
    "}\n",
    "```\n",
    "结果：\n",
    "```\n",
    "1 2 2 3 \n",
    "1 2 2 \n",
    "```\n",
    "**对于`List<T>`再复杂点的，上面的方式就变成浅拷贝了：(类似于Python的Copy.Copy)**\n",
    "\n",
    "定义一个Student\n",
    "```csharp\n",
    "public class Student\n",
    "{\n",
    "    public string Name { get; set; }\n",
    "    public int Age { get; set; }\n",
    "\n",
    "    public override string ToString()\n",
    "    {\n",
    "        return $\"Name:{Name},Age:{Age}\";\n",
    "    }\n",
    "}\n",
    "```\n",
    "\n",
    "```csharp\n",
    "var list5 = new List<Student>(){\n",
    "    new Student { Name = \"小张\", Age = 22 },\n",
    "    new Student { Name = \"小明\", Age = 23 }\n",
    "    };\n",
    "\n",
    "var p = new Student() { Name = \"小潘\", Age = 23 };\n",
    "list5.Add(p);\n",
    "\n",
    "var list6 = new List<Student>();\n",
    "list6.AddRange(list5);\n",
    "\n",
    "// 浅拷贝测试\n",
    "// 我们修改一下list5，list6没有跟着改变，说明第一层的地址的确不一样\n",
    "list5.Add(new Student() { Name = \"小胖\", Age = 24 });\n",
    "// 当我们修改小潘同学的年龄时，大家都变了，说明真的只是浅拷贝\n",
    "p.Age = 24;\n",
    "\n",
    "foreach (var item in list5)\n",
    "{\n",
    "    Console.WriteLine(item);\n",
    "}\n",
    "Console.WriteLine(\"=============\");\n",
    "foreach (var item in list6)\n",
    "{\n",
    "    Console.WriteLine(item);\n",
    "}\n",
    "```\n",
    "结果：\n",
    "```\n",
    "Name:小张,Age:22\n",
    "Name:小明,Age:23\n",
    "Name:小潘,Age:24\n",
    "Name:小胖,Age:24\n",
    "=============\n",
    "Name:小张,Age:22\n",
    "Name:小明,Age:23\n",
    "Name:小潘,Age:24\n",
    "```"
   ]
  },
  {
   "cell_type": "markdown",
   "metadata": {},
   "source": [
    "对于`List<T>`的深拷贝场景，其实项目中还是蛮常见的,那深拷贝怎么搞呢？\n",
    "\n"
   ]
  },
  {
   "cell_type": "code",
   "execution_count": null,
   "metadata": {},
   "outputs": [],
   "source": []
  },
  {
   "cell_type": "code",
   "execution_count": null,
   "metadata": {},
   "outputs": [],
   "source": []
  }
 ],
 "metadata": {
  "kernelspec": {
   "display_name": "Python 3",
   "language": "python",
   "name": "python3"
  },
  "language_info": {
   "codemirror_mode": {
    "name": "ipython",
    "version": 3
   },
   "file_extension": ".py",
   "mimetype": "text/x-python",
   "name": "python",
   "nbconvert_exporter": "python",
   "pygments_lexer": "ipython3",
   "version": "3.6.5"
  }
 },
 "nbformat": 4,
 "nbformat_minor": 2
}
